{
  "nbformat": 4,
  "nbformat_minor": 0,
  "metadata": {
    "colab": {
      "provenance": []
    },
    "kernelspec": {
      "name": "python3",
      "display_name": "Python 3"
    },
    "language_info": {
      "name": "python"
    }
  },
  "cells": [
    {
      "cell_type": "markdown",
      "source": [
        "# Welcome to PunPal API, your punny assistant.<br>\n",
        "To use this API, click Runtime->Run All. Then scroll all the way to the end of this file and change the input sentence and/or model. Then only run the last cell."
      ],
      "metadata": {
        "id": "YjtrMkfGtjhN"
      }
    },
    {
      "cell_type": "code",
      "execution_count": 75,
      "metadata": {
        "id": "fweXob2vCD9K"
      },
      "outputs": [],
      "source": [
        "!pip -q install transformers #installing because we want to use pre_trained models, both from huggingface and our own models\n",
        "!wget -q https://github.com/DavVratChadha/NoPunIntended/raw/main/data/tag_dict.pickle #loading the relative frequency heuristic"
      ]
    },
    {
      "cell_type": "code",
      "source": [
        "import pickle\n",
        "import torch\n",
        "import re\n",
        "import transformers\n",
        "from transformers import RobertaTokenizer, DebertaTokenizer\n",
        "from transformers import AutoTokenizer, AutoModelForSequenceClassification\n",
        "import random\n",
        "import numpy as np\n",
        "import matplotlib.pyplot as plt\n",
        "from sklearn.cluster import KMeans\n",
        "import math"
      ],
      "metadata": {
        "id": "rv1SyyaUNRL2"
      },
      "execution_count": 76,
      "outputs": []
    },
    {
      "cell_type": "code",
      "source": [
        "import spacy\n",
        "!python -m spacy download en_core_web_lg -q"
      ],
      "metadata": {
        "colab": {
          "base_uri": "https://localhost:8080/"
        },
        "id": "Fl2uItDiIms3",
        "outputId": "66bd12aa-fa97-497b-e9e3-e277fb666ce0"
      },
      "execution_count": 77,
      "outputs": [
        {
          "output_type": "stream",
          "name": "stdout",
          "text": [
            "2023-04-14 19:26:05.291704: W tensorflow/compiler/tf2tensorrt/utils/py_utils.cc:38] TF-TRT Warning: Could not find TensorRT\n",
            "\u001b[2K     \u001b[90m━━━━━━━━━━━━━━━━━━━━━━━━━━━━━━━━━━━━━━━\u001b[0m \u001b[32m587.7/587.7 MB\u001b[0m \u001b[31m1.4 MB/s\u001b[0m eta \u001b[36m0:00:00\u001b[0m\n",
            "\u001b[?25h\u001b[38;5;2m✔ Download and installation successful\u001b[0m\n",
            "You can now load the package via spacy.load('en_core_web_lg')\n"
          ]
        }
      ]
    },
    {
      "cell_type": "code",
      "source": [
        "import warnings\n",
        "warnings.filterwarnings('ignore', category=UserWarning) #ignoring UserWarning from colab because I know what I am doing here\n",
        "warnings.filterwarnings('ignore', category=FutureWarning)\n",
        "warnings.filterwarnings('ignore', category=DeprecationWarning)"
      ],
      "metadata": {
        "id": "SAbVXnoyNTaU"
      },
      "execution_count": 78,
      "outputs": []
    },
    {
      "cell_type": "code",
      "source": [
        "def load_pickle(file_path):\n",
        "    with open(file_path, 'rb') as f:\n",
        "        data = pickle.load(f)\n",
        "    return data"
      ],
      "metadata": {
        "id": "BA6yFuhpNXPL"
      },
      "execution_count": 79,
      "outputs": []
    },
    {
      "cell_type": "code",
      "source": [
        "seed = 42\n",
        "random.seed(seed)\n",
        "np.random.seed(seed)\n",
        "torch.manual_seed(seed)\n",
        "torch.cuda.manual_seed(seed)\n",
        "\n",
        "nlp = spacy.load('en_core_web_lg', disable=['parser', 'ner'])\n",
        "nlp.add_pipe('sentencizer')\n",
        "\n",
        "rel_freq = load_pickle('tag_dict.pickle')\n",
        "\n",
        "#Original Tokenizers\n",
        "roberta_tokenizer = RobertaTokenizer.from_pretrained('roberta-base')\n",
        "deberta_tokenizer = DebertaTokenizer.from_pretrained('microsoft/deberta-base')\n",
        "\n",
        "#Our Fine-Tuned Models\n",
        "roberta_model = AutoModelForSequenceClassification.from_pretrained(\"DVC12/NoPunIntended_RoBERTa\")\n",
        "deberta_model = AutoModelForSequenceClassification.from_pretrained(\"DVC12/NoPunIntended_DeBERTa\")"
      ],
      "metadata": {
        "id": "QFx1XNtxNaih"
      },
      "execution_count": 80,
      "outputs": []
    },
    {
      "cell_type": "code",
      "source": [
        "def sentence_processor(sentence):\n",
        "  \"\"\"Helper function to process the input sentence by fixing punctuation and POS tagging it\"\"\"\n",
        "  unprocessed_sentence = []\n",
        "  processed_sentence = []\n",
        "\n",
        "  #remove extra spaces using rejex\n",
        "  sentence = re.sub(' +', ' ', sentence)\n",
        "  #replace ' m with 'm\n",
        "  sentence = sentence.replace(\"' m\", \"'m\")\n",
        "  #replace ' s with 's\n",
        "  sentence = sentence.replace(\"' s\", \"'s\")\n",
        "  #replace ' ve with 've\n",
        "  sentence = sentence.replace(\"' ve\", \"'ve\")\n",
        "  #replace ' re with 're\n",
        "  sentence = sentence.replace(\"' re\", \"'re\")        \n",
        "  #replace ' d with 'd\n",
        "  sentence = sentence.replace(\"' d\", \"'d\")\n",
        "  #replace ' ll with 'll\n",
        "  sentence = sentence.replace(\"' ll\", \"'ll\")\n",
        "  #replace ' t with 't\n",
        "  sentence = sentence.replace(\"' t\", \"'t\")\n",
        "  #replace '' with \"\n",
        "  sentence = sentence.replace(\"''\", \"\\\"\")\n",
        "  \n",
        "  #remove new line character at the end of the sentence\n",
        "  sentence = sentence.strip()\n",
        "  sentence = nlp(sentence)\n",
        "  for sent in sentence.sents:\n",
        "      for token in sent:\n",
        "          #Write \"/POS\" after each token.\n",
        "          #Split tokens with spaces.\n",
        "          token.lemma_ = token.lemma_.lower()\n",
        "          #replace pun with its lemma\n",
        "          processed_sentence.append(token.lemma_ + \"/\" + token.tag_)\n",
        "          unprocessed_sentence.append(token.text)\n",
        "  return [processed_sentence, unprocessed_sentence]"
      ],
      "metadata": {
        "id": "ByE73V8rH7id"
      },
      "execution_count": 81,
      "outputs": []
    },
    {
      "cell_type": "code",
      "source": [
        "def roberta_predictor(input_list, print_output):\n",
        "  pos_sentence = input_list[0]\n",
        "  sentence = input_list[1]\n",
        "  max_len = 79 #dont change\n",
        "  #creating an array of heuristic based on rel_freq mapping for each tag in pos_sentence\n",
        "  rel_freq_heuristic = [0]\n",
        "  for word in pos_sentence:\n",
        "    rel_freq_heuristic.append(rel_freq.get(word.split(\"/\")[1], 0))\n",
        "  rel_freq_heuristic += [0]*(max_len - len(rel_freq_heuristic))\n",
        "  rel_freq_heuristic = torch.tensor(rel_freq_heuristic)\n",
        "\n",
        "  k_means_output = []\n",
        "\n",
        "  encoded_data = roberta_tokenizer.encode_plus(\n",
        "          sentence,\n",
        "          add_special_tokens=True,\n",
        "          max_length = max_len, #we are padding all sentences to a max_len elements (words + punction)\n",
        "          pad_to_max_length = True,\n",
        "          return_attention_mask = False,\n",
        "          return_tensors='pt',\n",
        "          truncation = True\n",
        "      )\n",
        "\n",
        "  temp = np.array(encoded_data['input_ids'][0].tolist().copy())\n",
        "  temp = temp[temp != temp[-1]] #remove padding\n",
        "\n",
        "  multiplier = 0.5 #you can change this value to affect how the test model works. This is a hyperparameter which changes the max number of clusters for kmeans\n",
        "  #mutliplier has been set to 0.5 because RoBERTa was fine-tuned by us with this value\n",
        "  num_clusters = max(math.ceil(len(temp)*multiplier), min(5, len(sentence)))\n",
        "\n",
        "  kmeans = KMeans(n_clusters = num_clusters, n_init = 10, random_state = seed)\n",
        "  kmeans.fit(temp.reshape(-1, 1))\n",
        "  att_labels = np.array(kmeans.labels_)\n",
        "  k_means_output.append(kmeans.labels_)\n",
        "  \n",
        "  if print_output: #graph k-means\n",
        "    cluster_centers = kmeans.cluster_centers_.squeeze(-1)\n",
        "    cluster_sizes = np.bincount(kmeans.labels_)\n",
        "\n",
        "    # Add circles with the same colors for points with the same label\n",
        "    colors = ['b', 'g', 'r', 'gold', 'm', 'darkorange', 'dodgerblue', 'lime', 'y', 'k',  'navy', 'teal', 'maroon', 'purple', 'olive',  'mediumblue', 'tomato', 'orchid', 'darkgreen', 'deeppink', 'royalblue', 'sienna', 'hotpink', 'turquoise', 'limegreen', 'cornflowerblue', 'sandybrown']\n",
        "    k = 0\n",
        "    # Set up the figure and axes\n",
        "    fig, ax = plt.subplots(figsize=(25, 2))\n",
        "\n",
        "    used_colors = {}\n",
        "    # Plot the data points with the corresponding colors\n",
        "    for i in range(len(cluster_centers)):\n",
        "      if cluster_centers[i] in used_colors:\n",
        "        use_color = used_colors[cluster_centers[i]]\n",
        "      else:\n",
        "        used_colors[cluster_centers[i]] = colors[k]\n",
        "        k += 1\n",
        "      ax.scatter(temp[i], 0, color = used_colors[cluster_centers[i]], s = 35 * 1.5**cluster_sizes[i])\n",
        "    ax.set_yticklabels([])\n",
        "    # ax.set_xscale('log')\n",
        "    plt.title(\"K-Means on Token_IDs for RoBERTa/DeBERTa on Linear Scale\")\n",
        "    plt.xlabel(\"Token_ID\")\n",
        "    # Show the plot\n",
        "    plt.show()\n",
        "\n",
        "\n",
        "  unique, count = (np.unique(att_labels, return_counts = True))\n",
        "\n",
        "  idx = np.argsort(count)\n",
        "  count = count[idx]\n",
        "  unique = unique[idx]\n",
        "\n",
        "  first_mode = unique[-1]\n",
        "  attention_mask = torch.tensor([0] * max_len)\n",
        "  indices = np.where(att_labels == first_mode)\n",
        "  attention_mask[indices] = 1\n",
        "\n",
        "  \n",
        "  lone_word = unique[np.where(count == 1)]\n",
        "  lone_word_ind = np.where(np.isin(att_labels, lone_word))[0]\n",
        "  attention_mask[lone_word_ind] = 1\n",
        "\n",
        "  if len(unique) > 1:\n",
        "    second_lowest_chosen = unique[1]\n",
        "    indices2 = np.where(att_labels == second_lowest_chosen)\n",
        "    attention_mask[indices2] = 1\n",
        "                                              \n",
        "  input_id = torch.stack([encoded_data['input_ids'][0]], dim = 0)\n",
        "  attention_mask = torch.stack([attention_mask], dim = 0)\n",
        "\n",
        "  #use fine-tuned model\n",
        "  model_output = roberta_model(input_id, attention_mask = attention_mask)\n",
        "  model_output = torch.softmax(model_output[\"logits\"].detach(), dim = 1) * rel_freq_heuristic\n",
        "  sum = torch.sum(model_output)\n",
        "  model_output = model_output/sum\n",
        "\n",
        "  model_pred = torch.argmax(model_output, dim = 1)\n",
        "  model_confidence = torch.max(model_output, dim = 1)\n",
        "  #updating some values\n",
        "  if model_pred == 0:\n",
        "    model_pred = 1\n",
        "  pred_pun = sentence[model_pred.item() - 1]\n",
        "  model_confidence = model_confidence[0][0].item()*100\n",
        "  return pred_pun, model_confidence"
      ],
      "metadata": {
        "id": "ugLY3rzxWv8F"
      },
      "execution_count": 82,
      "outputs": []
    },
    {
      "cell_type": "code",
      "source": [
        "def deberta_predictor(input_list, print_output):\n",
        "  pos_sentence = input_list[0]\n",
        "  sentence = input_list[1]\n",
        "  max_len = 79 #dont change\n",
        "  #creating an array of heuristic based on rel_freq mapping for each tag in pos_sentence\n",
        "  rel_freq_heuristic = [0]\n",
        "  for word in pos_sentence:\n",
        "    rel_freq_heuristic.append(rel_freq.get(word.split(\"/\")[1], 0))\n",
        "  rel_freq_heuristic += [0]*(max_len - len(rel_freq_heuristic))\n",
        "  rel_freq_heuristic = torch.tensor(rel_freq_heuristic)\n",
        "\n",
        "  k_means_output = []\n",
        "\n",
        "  encoded_data = deberta_tokenizer.encode_plus(\n",
        "          sentence,\n",
        "          add_special_tokens=True,\n",
        "          max_length = max_len, #we are padding all sentences to a max_len elements (words + punction)\n",
        "          pad_to_max_length = True,\n",
        "          return_attention_mask = False,\n",
        "          return_tensors='pt',\n",
        "          truncation = True\n",
        "      )\n",
        "\n",
        "  temp = np.array(encoded_data['input_ids'][0].tolist().copy())\n",
        "  temp = temp[temp != temp[-1]] #remove padding\n",
        "\n",
        "  multiplier = 1 #you can change this value to affect how the test model works. This is a hyperparameter which changes the max number of clusters for kmeans\n",
        "  #mutliplier has been set to 1 because deberta was fine-tuned by us with this value\n",
        "  num_clusters = max(math.ceil(len(temp)*multiplier), min(5, len(sentence)))\n",
        "\n",
        "  kmeans = KMeans(n_clusters = num_clusters, n_init = 10, random_state = seed)\n",
        "  kmeans.fit(temp.reshape(-1, 1))\n",
        "  att_labels = np.array(kmeans.labels_)\n",
        "  k_means_output.append(kmeans.labels_)\n",
        "\n",
        "  unique, count = (np.unique(att_labels, return_counts = True))\n",
        "\n",
        "  idx = np.argsort(count)\n",
        "  count = count[idx]\n",
        "  unique = unique[idx]\n",
        "\n",
        "  first_mode = unique[-1]\n",
        "  attention_mask = torch.tensor([0] * max_len)\n",
        "  indices = np.where(att_labels == first_mode)\n",
        "  attention_mask[indices] = 1\n",
        "  \n",
        "  lone_word = unique[np.where(count == 1)]\n",
        "  lone_word_ind = np.where(np.isin(att_labels, lone_word))[0]\n",
        "  attention_mask[lone_word_ind] = 1\n",
        "\n",
        "  if len(unique) > 1:\n",
        "    second_lowest_chosen = unique[1]\n",
        "    indices2 = np.where(att_labels == second_lowest_chosen)\n",
        "    attention_mask[indices2] = 1\n",
        "                                              \n",
        "  input_id = torch.stack([encoded_data['input_ids'][0]], dim = 0)\n",
        "  attention_mask = torch.stack([attention_mask], dim = 0)\n",
        "\n",
        "  #use fine-tuned model\n",
        "  model_output = deberta_model(input_id, attention_mask = attention_mask)\n",
        "  model_output = torch.softmax(model_output[\"logits\"].detach(), dim = 1) * rel_freq_heuristic\n",
        "  sum = torch.sum(model_output)\n",
        "  model_output = model_output/sum\n",
        "  model_pred = torch.argmax(model_output, dim = 1)\n",
        "  model_confidence = torch.max(model_output, dim = 1)\n",
        "  #updating some values\n",
        "  if model_pred == 0:\n",
        "    model_pred = 1\n",
        "  pred_pun = sentence[model_pred.item() - 1]\n",
        "  model_confidence = model_confidence[0][0].item()*100\n",
        "  return pred_pun, model_confidence"
      ],
      "metadata": {
        "id": "ZLSCRJhJopXn"
      },
      "execution_count": 83,
      "outputs": []
    },
    {
      "cell_type": "code",
      "source": [
        "def PunPal(input_sentence = \"\", model_name = \"ensemble\", display_output = True):\n",
        "  \"\"\"This function acts as an API to test the models trained by us on any input sentence.\n",
        "  Input:\n",
        "      input_sentence: <your sentence>\n",
        "      model_name: roberta / deberta / ensemble\n",
        "      display_output (optional): True / False\n",
        "  Output:\n",
        "      model_pred: Predicted pun word\n",
        "      model_confidence: Confidence rate of a word being a pun\n",
        "  \"\"\"\n",
        "  if len(input_sentence) == 0:\n",
        "    print(\"Invalid sentence\")\n",
        "    return None, None\n",
        "\n",
        "  #POS tagging\n",
        "  output_list = sentence_processor(input_sentence)\n",
        "  \n",
        "  roberta_pred, roberta_conf = roberta_predictor(output_list, display_output)\n",
        "  deberta_pred, deberta_conf = deberta_predictor(output_list, display_output)\n",
        "  \n",
        "  if display_output:\n",
        "    print()\n",
        "    print(\"RoBERTa predicts that the Pun word is '\", roberta_pred, \"' with confidence = \", roberta_conf, \"%\")\n",
        "    print(\"DeBERTa predicts that the Pun word is '\", deberta_pred, \"' with confidence = \", deberta_conf, \"%\")\n",
        "  \n",
        "  if model_name == \"roberta\":\n",
        "    return roberta_pred, roberta_conf\n",
        "\n",
        "  elif model_name == \"deberta\":\n",
        "    return deberta_pred, deberta_conf\n",
        "  \n",
        "  elif model_name == \"ensemble\":\n",
        "    if 0.65 * roberta_conf > 0.85 * deberta_conf: #these constant are chosen after running the ensemble on validation set to find the best weights for weighted voting ensemble\n",
        "      return roberta_pred, roberta_conf\n",
        "    else:\n",
        "      return deberta_pred, deberta_conf\n",
        "  else:\n",
        "    print(\"Invalid Model name\")\n",
        "    return None, None"
      ],
      "metadata": {
        "id": "uUrZcB90N1pg"
      },
      "execution_count": 84,
      "outputs": []
    },
    {
      "cell_type": "code",
      "source": [
        "#model = roberta / deberta / ensemble\n",
        "#input = <your sentence>\n",
        "#display_output (optional) = True / False\n",
        "\n",
        "model = \"ensemble\"\n",
        "input = \"I knew a guy who collected candy canes, they were all in mint condition.\" #<======= Replace this with your sentence\n",
        "pred, conf = PunPal(input_sentence = input, model_name = model)\n",
        "\n",
        "print(\"================\")\n",
        "print(\"Your chosen model:\", model, \", predicts the Pun is '\", pred, \"' with confidence =\", conf, \"%\")\n",
        "#Note: pred and conf depend on the model chosen, whereas the output below are for both model and can be turned off by setting display_output = False\n",
        "#Note2: Circles on graph below represent the centroid location of a K-Means cluster for token_id of words with similar context. Larger Radii implies larger cluster"
      ],
      "metadata": {
        "colab": {
          "base_uri": "https://localhost:8080/",
          "height": 276
        },
        "id": "a1U2bnR6ajMw",
        "outputId": "06e45ee7-259e-4626-b65d-7fec486ebfd1"
      },
      "execution_count": 88,
      "outputs": [
        {
          "output_type": "display_data",
          "data": {
            "text/plain": [
              "<Figure size 2500x200 with 1 Axes>"
            ],
            "image/png": "[encoded data removed]"
          },
          "metadata": {}
        },
        {
          "output_type": "stream",
          "name": "stdout",
          "text": [
            "\n",
            "RoBERTa predicts that the Pun word is ' mint ' with confidence =  99.59205146868683 %\n",
            "DeBERTa predicts that the Pun word is ' mint ' with confidence =  99.89553979313332 %\n",
            "================\n",
            "Your chosen model: ensemble , predicts the Pun is ' mint ' with confidence = 99.89553979313332 %\n"
          ]
        }
      ]
    },
    {
      "cell_type": "markdown",
      "source": [
        "Here are some Puns from our test dataset if you cannot think of a pun right now:<br>\n",
        "**Homophonic Puns:**<br>\n",
        "* What keeps a dock floating above water? Pier pressure.\n",
        "* Legends tell us that a weakness of the carnivorous vampire is a steak.\n",
        "* There' s nothing to stop me putting things in tins, said Tom cannily.\n",
        "* The pistol of a flower is its only protections against insects.\n",
        "* Psychiatrists like Kentucky Freud Chicken.\n",
        "* Hotel owners usually have suite dreams.\n",
        "* The telemarketer asked me if I read magazines at all and I replied that I did, periodically.\n",
        "* She became an art dealer because she wanted more Monet.\n",
        "* 7 days without prayer makes 1 weak\n",
        "* You should never take rocks for granite.\n",
        "* ''If I let go of the ceiling it will collapse,'' Tom upheld.\n",
        "\n",
        "**Heterophonic/Semantic Puns:**<br>\n",
        "* Did you hear about the crime that happened in a parking garage? It was wrong on so many levels.\n",
        "* Two astronauts who were dating put an end to it because they both needed their space.\n",
        "* Luggage salespeople have to make a good case for you to buy.\n",
        "* A kettle on the stove was singing' Home on the Range'.\n",
        "* Musical mechanics always sing in parts.\n",
        "* Hubble wanted to bring the idea into better focus.\n",
        "* The forecaster was away because he was under the weather.\n",
        "* Two airline pilots in a stand-up comedy did a takeoff."
      ],
      "metadata": {
        "id": "I6PLkTJB5XHv"
      }
    }
  ]
}