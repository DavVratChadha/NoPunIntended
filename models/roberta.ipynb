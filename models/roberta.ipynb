{
  "cells": [
    {
      "cell_type": "code",
      "execution_count": 1,
      "metadata": {
        "colab": {
          "base_uri": "https://localhost:8080/"
        },
        "id": "ZlBIEwV_GjUw",
        "outputId": "162c1e72-ea0d-4398-9f13-55a3002e2e61"
      },
      "outputs": [
        {
          "output_type": "stream",
          "name": "stdout",
          "text": [
            "\u001b[2K     \u001b[90m━━━━━━━━━━━━━━━━━━━━━━━━━━━━━━━━━━━━━━━━\u001b[0m \u001b[32m7.0/7.0 MB\u001b[0m \u001b[31m26.8 MB/s\u001b[0m eta \u001b[36m0:00:00\u001b[0m\n",
            "\u001b[2K     \u001b[90m━━━━━━━━━━━━━━━━━━━━━━━━━━━━━━━━━━━━━━━━\u001b[0m \u001b[32m7.8/7.8 MB\u001b[0m \u001b[31m30.7 MB/s\u001b[0m eta \u001b[36m0:00:00\u001b[0m\n",
            "\u001b[2K     \u001b[90m━━━━━━━━━━━━━━━━━━━━━━━━━━━━━━━━━━━━━━━\u001b[0m \u001b[32m200.1/200.1 kB\u001b[0m \u001b[31m8.1 MB/s\u001b[0m eta \u001b[36m0:00:00\u001b[0m\n",
            "\u001b[?25h"
          ]
        }
      ],
      "source": [
        "!pip -q install transformers #installing because we want to use pre_trained models, both from huggingface and our own models\n",
        "!wget -q https://github.com/DavVratChadha/NoPunIntended/raw/main/data/het_list_processed.pickle\n",
        "!wget -q https://github.com/DavVratChadha/NoPunIntended/raw/main/data/homo_list_processed.pickle\n",
        "!wget -q https://github.com/DavVratChadha/NoPunIntended/raw/main/data/tag_dict.pickle\n",
        "!wget -q https://github.com/DavVratChadha/NoPunIntended/raw/main/data/dataloaders_deberta.pickle\n",
        "!wget -q https://github.com/DavVratChadha/NoPunIntended/raw/main/data/dataloaders_roberta.pickle"
      ]
    },
    {
      "cell_type": "code",
      "execution_count": 2,
      "metadata": {
        "id": "hnWtwGmOLzsW"
      },
      "outputs": [],
      "source": [
        "import pickle\n",
        "import torch\n",
        "from transformers import RobertaTokenizer, RobertaForSequenceClassification\n",
        "from torch.utils.data import TensorDataset, DataLoader\n",
        "import random\n",
        "from sklearn.model_selection import train_test_split\n",
        "import numpy as np\n",
        "from transformers import get_linear_schedule_with_warmup\n",
        "from torch.optim import Adam, NAdam, SGD\n",
        "from tqdm import tqdm\n",
        "import matplotlib.pyplot as plt\n",
        "from sklearn.cluster import KMeans\n",
        "import math"
      ]
    },
    {
      "cell_type": "code",
      "execution_count": 3,
      "metadata": {
        "id": "481fj55TuJvL"
      },
      "outputs": [],
      "source": [
        "import warnings\n",
        "warnings.filterwarnings('ignore', category=UserWarning) #ignoring UserWarning from colab because I know what I am doing here\n",
        "warnings.filterwarnings('ignore', category=FutureWarning)\n",
        "warnings.filterwarnings('ignore', category=DeprecationWarning)"
      ]
    },
    {
      "cell_type": "code",
      "execution_count": 4,
      "metadata": {
        "id": "S1fTP0l0LzsZ"
      },
      "outputs": [],
      "source": [
        "# Simplify the code by creating a function to load pickle files\n",
        "def load_pickle(file_path):\n",
        "    with open(file_path, 'rb') as f:\n",
        "        data = pickle.load(f, fix_imports = True)\n",
        "    return data\n",
        "\n",
        "# Load the pickle files using the function\n",
        "het_list_processed = load_pickle('het_list_processed.pickle')\n",
        "homo_list_processed = load_pickle('homo_list_processed.pickle')\n",
        "rel_freq = load_pickle('tag_dict.pickle')"
      ]
    },
    {
      "cell_type": "code",
      "execution_count": 5,
      "metadata": {
        "colab": {
          "base_uri": "https://localhost:8080/"
        },
        "id": "1aHAHbgm6n5K",
        "outputId": "01f015d2-82b5-4ac3-810b-3e1e40c06481"
      },
      "outputs": [
        {
          "output_type": "stream",
          "name": "stdout",
          "text": [
            "{'': 0.0003436426116838488, \"''\": 0.0003436426116838488, ',': 0.0003436426116838488, '-LRB-': 0.0003436426116838488, '-RRB-': 0.0003436426116838488, '.': 0.0003436426116838488, ':': 0.0003436426116838488, 'CC': 0.0003436426116838488, 'CD': 0.0010309278350515464, 'DT': 0.0003436426116838488, 'EX': 0.0003436426116838488, 'FW': 0.0006872852233676976, 'HYPH': 0.0003436426116838488, 'IN': 0.0024054982817869417, 'JJ': 0.11134020618556702, 'JJR': 0.0013745704467353953, 'JJS': 0.0013745704467353953, 'LS': 0.0003436426116838488, 'MD': 0.0013745704467353953, 'NFP': 0.0003436426116838488, 'NN': 0.3518900343642612, 'NNP': 0.07835051546391752, 'NNPS': 0.0013745704467353953, 'NNS': 0.09725085910652921, 'PDT': 0.0003436426116838488, 'POS': 0.0003436426116838488, 'PRP': 0.0006872852233676976, 'PRP$': 0.0003436426116838488, 'RB': 0.06632302405498282, 'RBR': 0.0006872852233676976, 'RBS': 0.0003436426116838488, 'RP': 0.001718213058419244, 'TO': 0.0003436426116838488, 'UH': 0.002061855670103093, 'VB': 0.07835051546391752, 'VBD': 0.05979381443298969, 'VBG': 0.03573883161512027, 'VBN': 0.05910652920962199, 'VBP': 0.032989690721649485, 'VBZ': 0.005498281786941581, 'WDT': 0.0003436426116838488, 'WP': 0.0003436426116838488, 'WP$': 0.0003436426116838488, 'WRB': 0.0003436426116838488, 'XX': 0.0003436426116838488, '_SP': 0.0003436426116838488, '``': 0.0003436426116838488}\n"
          ]
        }
      ],
      "source": [
        "print(rel_freq)"
      ]
    },
    {
      "cell_type": "code",
      "execution_count": 6,
      "metadata": {
        "id": "TvYWvGJBLzsa",
        "colab": {
          "base_uri": "https://localhost:8080/",
          "height": 113,
          "referenced_widgets": [
            "9f9cf4a6215549cd85f5f7d11ca4e520",
            "262bc83c22a94ee89a8cfdeb4795c37b",
            "8bb7e29546ec4a0395174a3c6717b6c5",
            "e16405134c0348ab9ac2422f35cf85b1",
            "a61f9b940d4a4c69a75930d4ef13c99e",
            "9677a72b279743b58e2e45d9e2c60b1e",
            "f33208bde581472bb8ad4b999f988624",
            "83c58c1051a5493588fe5376eb1753f2",
            "642ae5a50d92444992122f1d00954865",
            "51906006cb274e5ca9bb222e4ac5e770",
            "f0583f3a63644e1890eb0368b04e941f",
            "473a101e94004461858cb698270bcdd2",
            "c22ae4ccf9064f15bf3b4f1d38b49dc0",
            "2c64b9e786524d5e90c361f649e30497",
            "0a2c494e57a84f82b423d22b1db2a560",
            "0233e21e20ad41748be82c6513ee9909",
            "112cdc12de454e71b8d020f64ee4efc3",
            "c4bee92c7ec547128e3c4983bdb03957",
            "7cfb34a908634d8d9e5b7441952c3f58",
            "6a1d7ba5acf44bf1a83b65afc411caef",
            "419d3ea95d5d415c8eb0bf30fbe44f51",
            "74dc66c39a1e460495757366b9924f5d",
            "89ba740be54a4ee18e18df9bd70b8973",
            "61bcbf49411642aea5fa1c981523052d",
            "4ea42913ac7a4deeaab1567d498437b7",
            "69f125071df34a48804032ade255d505",
            "ec5ab20985a24e3a9e9a35ceb0df611d",
            "68f013c4e532408899c68249028d78c5",
            "6fd262ffcdd840fb845b76cecce98204",
            "44a264e7e1b84016a4bf4d8ee757640a",
            "47a1bf9346b64425b1b6e31f5e4bd1ef",
            "afba9abfc227456dbc8facfec8e1ad69",
            "105b5aa5f9514608a780dd83247c692a"
          ]
        },
        "outputId": "c789dda6-f6d5-4b00-dc62-f7bae1440e60"
      },
      "outputs": [
        {
          "output_type": "display_data",
          "data": {
            "text/plain": [
              "Downloading (…)olve/main/vocab.json:   0%|          | 0.00/899k [00:00<?, ?B/s]"
            ],
            "application/vnd.jupyter.widget-view+json": {
              "version_major": 2,
              "version_minor": 0,
              "model_id": "9f9cf4a6215549cd85f5f7d11ca4e520"
            }
          },
          "metadata": {}
        },
        {
          "output_type": "display_data",
          "data": {
            "text/plain": [
              "Downloading (…)olve/main/merges.txt:   0%|          | 0.00/456k [00:00<?, ?B/s]"
            ],
            "application/vnd.jupyter.widget-view+json": {
              "version_major": 2,
              "version_minor": 0,
              "model_id": "473a101e94004461858cb698270bcdd2"
            }
          },
          "metadata": {}
        },
        {
          "output_type": "display_data",
          "data": {
            "text/plain": [
              "Downloading (…)lve/main/config.json:   0%|          | 0.00/481 [00:00<?, ?B/s]"
            ],
            "application/vnd.jupyter.widget-view+json": {
              "version_major": 2,
              "version_minor": 0,
              "model_id": "89ba740be54a4ee18e18df9bd70b8973"
            }
          },
          "metadata": {}
        }
      ],
      "source": [
        "tokenizer = RobertaTokenizer.from_pretrained('roberta-base')\n",
        "\n",
        "seed = 42\n",
        "random.seed(seed)\n",
        "np.random.seed(seed)\n",
        "torch.manual_seed(seed)\n",
        "torch.cuda.manual_seed(seed)\n",
        "\n",
        "mega_list = homo_list_processed + het_list_processed\n",
        "#shuffling the list\n",
        "random.shuffle(mega_list)\n"
      ]
    },
    {
      "cell_type": "code",
      "execution_count": 7,
      "metadata": {
        "colab": {
          "base_uri": "https://localhost:8080/"
        },
        "id": "48MbJroHLzsb",
        "outputId": "31bb315a-11c3-468e-cacf-f3e8d9f1d22a"
      },
      "outputs": [
        {
          "output_type": "stream",
          "name": "stdout",
          "text": [
            "Loaded presaved dataloader\n"
          ]
        }
      ],
      "source": [
        "#mega_list is a giant list where each sublist of the following format:\n",
        "#[['in/IN', 'the/DT', 'room/NN', 'the/DT', 'curtain/NNS', 'be/VBD', 'draw/VBN', ',/,', 'but/CC', 'the/DT', 'rest/NN', 'of/IN', 'the/DT', 'furniture/NN', 'be/VBD', 'real/JJ', './.'], ['In', 'the', 'room', 'the', 'curtains', 'were', 'drawn', ',', 'but', 'the', 'rest', 'of', 'the', 'furniture', 'was', 'real', '.'], ['draw/VBN']]. the first subsublist in the sublist is contains words in a sentence that have been POS tagged, second subsublist containts the original sentence, and third subsublist contains the pun word that has been POS tagged. Write code to tokenize this data, and fine tune a pretrained RoBERTa model to predict location of puns\n",
        "load_dataset = True\n",
        "if not load_dataset:\n",
        "  input_sentences = [sublist[1] for sublist in mega_list]\n",
        "  pos_sentences = [sublist[0] for sublist in mega_list]\n",
        "  pun_words = [sublist[2][0] for sublist in mega_list]\n",
        "\n",
        "  #calculating the max len for padding the inputs\n",
        "  max_len = 0\n",
        "  longest_joke = \"\"\n",
        "  for sentence in input_sentences:\n",
        "    if len(sentence) > max_len:\n",
        "      max_len = len(sentence)\n",
        "      longest_joke = \" \".join(sentence) \n",
        "  max_len += 2\n",
        "  print(\"Largest sentence in dataset has lenght = \", max_len)\n",
        "  print(\"This joke is:\\n\", longest_joke)\n",
        "\n",
        "  #creating an array of heuristic based on rel_freq mapping for each tag in dataset\n",
        "  rel_freq_heuristic = []\n",
        "  for sentence in pos_sentences:\n",
        "    temp_heuristic = [0]\n",
        "    for word in sentence:\n",
        "      temp_heuristic.append(rel_freq.get(word.split(\"/\")[1], 0))\n",
        "    temp_heuristic += [0]*(max_len - len(temp_heuristic))\n",
        "\n",
        "    rel_freq_heuristic.append(temp_heuristic)\n",
        "  rel_freq_heuristic = torch.tensor(rel_freq_heuristic)\n",
        "\n",
        "  input_ids = []\n",
        "  attention_masks = []\n",
        "  labels = []\n",
        "  k_means_output = []\n",
        "  acc_count = 0\n",
        "  multiplier = 5/10\n",
        "\n",
        "  for sentence, pun_word, pos_sentence in zip(input_sentences, pun_words, pos_sentences):\n",
        "      encoded_data = tokenizer.encode_plus(\n",
        "          sentence,\n",
        "          add_special_tokens=True,\n",
        "          max_length = max_len, #we are padding all sentences to a max_len elements (words + punction)\n",
        "          pad_to_max_length = True,\n",
        "          return_attention_mask = False,\n",
        "          return_tensors='pt'\n",
        "      )\n",
        "      \n",
        "      temp = np.array(encoded_data['input_ids'][0].tolist().copy())\n",
        "      \n",
        "      temp = temp[temp != temp[-1]] #remove padding\n",
        "      num_clusters = max(math.ceil(len(temp)*multiplier), min(5, len(sentence)))\n",
        "\n",
        "      kmeans = KMeans(n_clusters = num_clusters, n_init = 10)\n",
        "      kmeans.fit(temp.reshape(-1, 1))\n",
        "      att_labels = np.array(kmeans.labels_)\n",
        "      k_means_output.append(kmeans.labels_)\n",
        "\n",
        "      unique, count = (np.unique(att_labels, return_counts = True))\n",
        "\n",
        "      idx = np.argsort(count)\n",
        "      count = count[idx]\n",
        "      unique = unique[idx]\n",
        "\n",
        "      first_mode = unique[-1]\n",
        "      attention_mask = torch.tensor([0] * max_len)\n",
        "      indices = np.where(att_labels == first_mode)\n",
        "      attention_mask[indices] = 1\n",
        "      \n",
        "      lone_word = unique[np.where(count == 1)]\n",
        "      lone_word_ind = np.where(np.isin(att_labels, lone_word))[0]\n",
        "      attention_mask[lone_word_ind] = 1\n",
        "\n",
        "      if len(unique) > 1:\n",
        "        second_lowest_chosen = unique[1]\n",
        "        indices2 = np.where(att_labels == second_lowest_chosen)\n",
        "        attention_mask[indices2] = 1      \n",
        "\n",
        "      if attention_mask[pos_sentence.index(pun_word) + 1] == 0:\n",
        "        acc_count += 1\n",
        "                                                  \n",
        "      input_ids.append(encoded_data['input_ids'][0])\n",
        "      attention_masks.append(torch.tensor(attention_mask))\n",
        "      labels.append(pos_sentence.index(pun_word) + 1)\n",
        "      \n",
        "  print(\"Max accuracy = \", 1 - acc_count/len(pos_sentences))\n",
        "\n",
        "  #checking if the label index is within the range of max_len, else set it to the first word in the sentence\n",
        "  labels = [label if label < max_len else 0 for label in labels]\n",
        "  input_ids = torch.stack(input_ids, dim = 0)\n",
        "  attention_masks = torch.stack(attention_masks, dim = 0)\n",
        "  labels = torch.tensor(labels)\n",
        "\n",
        "  #splitting the data into train, validation and test sets\n",
        "  train_inputs, val_test_inputs, train_labels, val_test_labels, train_masks, val_test_masks, train_freq_heuristic, val_test_freq_heuristic = train_test_split(input_ids, labels, attention_masks, rel_freq_heuristic, random_state = seed, test_size = 0.3)\n",
        "  val_inputs, test_inputs, val_labels, test_labels, val_masks, test_masks, val_freq_heuristic, test_freq_heuristic = train_test_split(val_test_inputs, val_test_labels, val_test_masks, val_test_freq_heuristic, random_state = seed, test_size = 0.5)\n",
        "\n",
        "  #creating DataLoader\n",
        "  batch_size = 1\n",
        "\n",
        "  train_data = TensorDataset(train_inputs, train_masks, train_labels, train_freq_heuristic)\n",
        "  train_dataloader = DataLoader(train_data, batch_size=batch_size)\n",
        "\n",
        "  val_data = TensorDataset(val_inputs, val_masks, val_labels, val_freq_heuristic)\n",
        "  val_dataloader = DataLoader(val_data, batch_size=batch_size)\n",
        "\n",
        "  test_data = TensorDataset(test_inputs, test_masks, test_labels, test_freq_heuristic)\n",
        "  test_dataloader = DataLoader(test_data, batch_size=batch_size)\n",
        "\n",
        "  print(len(train_dataloader))\n",
        "  print(len(val_dataloader))\n",
        "  print(len(test_dataloader))\n",
        "\n",
        "  #writing the dataloaders to a pickle file so that we can use them later while using ensembles\n",
        "  with open('dataloaders_roberta.pickle', 'wb') as f:\n",
        "      f.truncate(0)\n",
        "      pickle.dump((train_dataloader, val_dataloader, test_dataloader), f)\n",
        "  #close file\n",
        "  f.close()\n",
        "else:\n",
        "  #load the dataloaders\n",
        "  (train_dataloader, val_dataloader, test_dataloader) = load_pickle('dataloaders_roberta.pickle')\n",
        "  max_len = 79\n",
        "  print(\"Loaded presaved dataloader\")"
      ]
    },
    {
      "cell_type": "code",
      "execution_count": 8,
      "metadata": {
        "id": "fbJFt6KJfGpH"
      },
      "outputs": [],
      "source": [
        "#function to calculate accuracy of the model for a given batch of data\n",
        "def accuracy(model_output, ground_truth_labels, rel_freq_heuristic):\n",
        "  model_output = torch.softmax(model_output.detach().cpu(), dim = 1) * rel_freq_heuristic.cpu()\n",
        "  model_output = torch.argmax(model_output, dim=1)\n",
        "  model_output = np.array(model_output)\n",
        "  ground_truth_labels = np.array(ground_truth_labels.detach().cpu())\n",
        "\n",
        "  #checking how many values in model_output are equal to their corresponding values in ground_truth_labels\n",
        "  num_correct = np.sum(model_output == ground_truth_labels)\n",
        "  accuracy_val = num_correct / len(ground_truth_labels)\n",
        "  return accuracy_val"
      ]
    },
    {
      "cell_type": "code",
      "execution_count": 9,
      "metadata": {
        "colab": {
          "base_uri": "https://localhost:8080/",
          "height": 173,
          "referenced_widgets": [
            "121f3728e1bc4853955f13bdfd692e44",
            "4341037576584eebba5b0c11dd35f294",
            "4e076a2024e34934843f55b55b3213ad",
            "495728e551f347a7a17d7486d8e3d033",
            "474602ba2a67470bb38507963706abd9",
            "a332fb83598f460d9141713451a1205e",
            "b86c710536484df5a1c4266758527302",
            "7af222e3d36e4af2beb7d69405d59bb7",
            "9a84507ae3214816b18d9fb01be51aeb",
            "c94f7e50e8aa4fa2b9daf794bbe872aa",
            "bdbdd686299a464c8f9a41f7a5cea7ea"
          ]
        },
        "id": "QAtaI-B-Lzsd",
        "outputId": "c389865b-590c-4fb4-9d84-714dee60de4c"
      },
      "outputs": [
        {
          "output_type": "display_data",
          "data": {
            "text/plain": [
              "Downloading pytorch_model.bin:   0%|          | 0.00/501M [00:00<?, ?B/s]"
            ],
            "application/vnd.jupyter.widget-view+json": {
              "version_major": 2,
              "version_minor": 0,
              "model_id": "121f3728e1bc4853955f13bdfd692e44"
            }
          },
          "metadata": {}
        },
        {
          "output_type": "stream",
          "name": "stderr",
          "text": [
            "Some weights of the model checkpoint at roberta-base were not used when initializing RobertaForSequenceClassification: ['lm_head.dense.weight', 'roberta.pooler.dense.bias', 'roberta.pooler.dense.weight', 'lm_head.bias', 'lm_head.dense.bias', 'lm_head.decoder.weight', 'lm_head.layer_norm.weight', 'lm_head.layer_norm.bias']\n",
            "- This IS expected if you are initializing RobertaForSequenceClassification from the checkpoint of a model trained on another task or with another architecture (e.g. initializing a BertForSequenceClassification model from a BertForPreTraining model).\n",
            "- This IS NOT expected if you are initializing RobertaForSequenceClassification from the checkpoint of a model that you expect to be exactly identical (initializing a BertForSequenceClassification model from a BertForSequenceClassification model).\n",
            "Some weights of RobertaForSequenceClassification were not initialized from the model checkpoint at roberta-base and are newly initialized: ['classifier.dense.weight', 'classifier.out_proj.weight', 'classifier.out_proj.bias', 'classifier.dense.bias']\n",
            "You should probably TRAIN this model on a down-stream task to be able to use it for predictions and inference.\n"
          ]
        },
        {
          "output_type": "stream",
          "name": "stdout",
          "text": [
            "Using Cuda\n"
          ]
        }
      ],
      "source": [
        "# Fine-tune the RoBERTa model\n",
        "model = RobertaForSequenceClassification.from_pretrained('roberta-base', num_labels = max_len)\n",
        "\n",
        "device = torch.device('cuda' if torch.cuda.is_available() else 'cpu')\n",
        "print([\"Using CPU\", \"Using Cuda\"][int(torch.cuda.is_available())])\n",
        "model.to(device)\n",
        "\n",
        "optimizer = NAdam(model.parameters(), lr = 0.00001)\n",
        "epochs = 100\n",
        "scheduler = get_linear_schedule_with_warmup(optimizer, num_warmup_steps=0, num_training_steps=len(train_dataloader) * epochs)"
      ]
    },
    {
      "cell_type": "code",
      "execution_count": 10,
      "metadata": {
        "colab": {
          "base_uri": "https://localhost:8080/"
        },
        "id": "dE6dAxx0Lzsd",
        "outputId": "5108d3b1-707f-49c7-99f9-c33e93e000d6"
      },
      "outputs": [
        {
          "output_type": "stream",
          "name": "stderr",
          "text": [
            "Training:   1%|\u001b[32m          \u001b[0m| 1/100 [02:58<4:54:06, 178.25s/it]"
          ]
        },
        {
          "output_type": "stream",
          "name": "stdout",
          "text": [
            "\n",
            "Epoch 0\n",
            "\tTraining Loss: 2.7906123753822967, Validation Loss: 2.169414976954738\n",
            "\tTraining Accuracy: 0.38073852295409183, Validation Accuracy: 0.5034965034965035\n"
          ]
        },
        {
          "output_type": "stream",
          "name": "stderr",
          "text": [
            "\rTraining:   2%|\u001b[32m▏         \u001b[0m| 2/100 [05:51<4:46:26, 175.37s/it]"
          ]
        },
        {
          "output_type": "stream",
          "name": "stdout",
          "text": [
            "\n",
            "Epoch 1\n",
            "\tTraining Loss: 2.0194509342617675, Validation Loss: 1.8344426338836586\n",
            "\tTraining Accuracy: 0.5379241516966068, Validation Accuracy: 0.578088578088578\n"
          ]
        },
        {
          "output_type": "stream",
          "name": "stderr",
          "text": [
            "\rTraining:   3%|\u001b[32m▎         \u001b[0m| 3/100 [08:44<4:41:19, 174.02s/it]"
          ]
        },
        {
          "output_type": "stream",
          "name": "stdout",
          "text": [
            "\n",
            "Epoch 2\n",
            "\tTraining Loss: 1.7779110462949452, Validation Loss: 1.6637751869509965\n",
            "\tTraining Accuracy: 0.5893213572854291, Validation Accuracy: 0.6177156177156177\n"
          ]
        },
        {
          "output_type": "stream",
          "name": "stderr",
          "text": [
            "\rTraining:   4%|\u001b[32m▍         \u001b[0m| 4/100 [11:37<4:38:17, 173.93s/it]"
          ]
        },
        {
          "output_type": "stream",
          "name": "stdout",
          "text": [
            "\n",
            "Epoch 3\n",
            "\tTraining Loss: 1.604221014385883, Validation Loss: 1.596348577020538\n",
            "\tTraining Accuracy: 0.6347305389221557, Validation Accuracy: 0.6643356643356644\n"
          ]
        },
        {
          "output_type": "stream",
          "name": "stderr",
          "text": [
            "\rTraining:   5%|\u001b[32m▌         \u001b[0m| 5/100 [14:31<4:35:05, 173.74s/it]"
          ]
        },
        {
          "output_type": "stream",
          "name": "stdout",
          "text": [
            "\n",
            "Epoch 4\n",
            "\tTraining Loss: 1.4720518229112862, Validation Loss: 1.634482542968991\n",
            "\tTraining Accuracy: 0.6746506986027944, Validation Accuracy: 0.6480186480186481\n"
          ]
        },
        {
          "output_type": "stream",
          "name": "stderr",
          "text": [
            "\rTraining:   6%|\u001b[32m▌         \u001b[0m| 6/100 [17:24<4:31:52, 173.54s/it]"
          ]
        },
        {
          "output_type": "stream",
          "name": "stdout",
          "text": [
            "\n",
            "Epoch 5\n",
            "\tTraining Loss: 1.3666878111824066, Validation Loss: 1.5971683255702882\n",
            "\tTraining Accuracy: 0.6991017964071856, Validation Accuracy: 0.6526806526806527\n"
          ]
        },
        {
          "output_type": "stream",
          "name": "stderr",
          "text": [
            "\rTraining:   7%|\u001b[32m▋         \u001b[0m| 7/100 [20:17<4:28:37, 173.30s/it]"
          ]
        },
        {
          "output_type": "stream",
          "name": "stdout",
          "text": [
            "\n",
            "Epoch 6\n",
            "\tTraining Loss: 1.2600431663566036, Validation Loss: 1.66721117979302\n",
            "\tTraining Accuracy: 0.7320359281437125, Validation Accuracy: 0.668997668997669\n"
          ]
        },
        {
          "output_type": "stream",
          "name": "stderr",
          "text": [
            "\rTraining:   8%|\u001b[32m▊         \u001b[0m| 8/100 [23:10<4:25:30, 173.16s/it]"
          ]
        },
        {
          "output_type": "stream",
          "name": "stdout",
          "text": [
            "\n",
            "Epoch 7\n",
            "\tTraining Loss: 1.156006730453459, Validation Loss: 1.504212224604193\n",
            "\tTraining Accuracy: 0.7430139720558883, Validation Accuracy: 0.6853146853146853\n"
          ]
        },
        {
          "output_type": "stream",
          "name": "stderr",
          "text": [
            "\rTraining:   9%|\u001b[32m▉         \u001b[0m| 9/100 [26:02<4:22:16, 172.93s/it]"
          ]
        },
        {
          "output_type": "stream",
          "name": "stdout",
          "text": [
            "\n",
            "Epoch 8\n",
            "\tTraining Loss: 1.055846611381752, Validation Loss: 1.6007764394870483\n",
            "\tTraining Accuracy: 0.7614770459081837, Validation Accuracy: 0.682983682983683\n"
          ]
        },
        {
          "output_type": "stream",
          "name": "stderr",
          "text": [
            "\rTraining:  10%|\u001b[32m█         \u001b[0m| 10/100 [28:53<4:18:27, 172.30s/it]"
          ]
        },
        {
          "output_type": "stream",
          "name": "stdout",
          "text": [
            "\n",
            "Epoch 9\n",
            "\tTraining Loss: 0.9384509544315824, Validation Loss: 1.6085647661933602\n",
            "\tTraining Accuracy: 0.8008982035928144, Validation Accuracy: 0.6783216783216783\n"
          ]
        },
        {
          "output_type": "stream",
          "name": "stderr",
          "text": [
            "\rTraining:  11%|\u001b[32m█         \u001b[0m| 11/100 [31:45<4:15:23, 172.17s/it]"
          ]
        },
        {
          "output_type": "stream",
          "name": "stdout",
          "text": [
            "\n",
            "Epoch 10\n",
            "\tTraining Loss: 0.8709645226161867, Validation Loss: 1.6191815063205388\n",
            "\tTraining Accuracy: 0.812874251497006, Validation Accuracy: 0.682983682983683\n"
          ]
        },
        {
          "output_type": "stream",
          "name": "stderr",
          "text": [
            "\rTraining:  12%|\u001b[32m█▏        \u001b[0m| 12/100 [34:37<4:12:30, 172.17s/it]"
          ]
        },
        {
          "output_type": "stream",
          "name": "stdout",
          "text": [
            "\n",
            "Epoch 11\n",
            "\tTraining Loss: 0.7870605159123352, Validation Loss: 1.759597222231728\n",
            "\tTraining Accuracy: 0.8318363273453094, Validation Accuracy: 0.696969696969697\n"
          ]
        },
        {
          "output_type": "stream",
          "name": "stderr",
          "text": [
            "\rTraining:  13%|\u001b[32m█▎        \u001b[0m| 13/100 [37:29<4:09:28, 172.05s/it]"
          ]
        },
        {
          "output_type": "stream",
          "name": "stdout",
          "text": [
            "\n",
            "Epoch 12\n",
            "\tTraining Loss: 0.6885623183912838, Validation Loss: 1.609919465548578\n",
            "\tTraining Accuracy: 0.8547904191616766, Validation Accuracy: 0.6993006993006993\n"
          ]
        },
        {
          "output_type": "stream",
          "name": "stderr",
          "text": [
            "\rTraining:  14%|\u001b[32m█▍        \u001b[0m| 14/100 [40:19<4:05:54, 171.56s/it]"
          ]
        },
        {
          "output_type": "stream",
          "name": "stdout",
          "text": [
            "\n",
            "Epoch 13\n",
            "\tTraining Loss: 0.6285941352284218, Validation Loss: 1.6768478394121296\n",
            "\tTraining Accuracy: 0.8707584830339321, Validation Accuracy: 0.710955710955711\n"
          ]
        },
        {
          "output_type": "stream",
          "name": "stderr",
          "text": [
            "\rTraining:  15%|\u001b[32m█▌        \u001b[0m| 15/100 [43:10<4:02:54, 171.46s/it]"
          ]
        },
        {
          "output_type": "stream",
          "name": "stdout",
          "text": [
            "\n",
            "Epoch 14\n",
            "\tTraining Loss: 0.5595098392874794, Validation Loss: 1.7677993018729374\n",
            "\tTraining Accuracy: 0.8837325349301397, Validation Accuracy: 0.6923076923076923\n"
          ]
        },
        {
          "output_type": "stream",
          "name": "stderr",
          "text": [
            "\rTraining:  16%|\u001b[32m█▌        \u001b[0m| 16/100 [46:02<4:00:19, 171.66s/it]"
          ]
        },
        {
          "output_type": "stream",
          "name": "stdout",
          "text": [
            "\n",
            "Epoch 15\n",
            "\tTraining Loss: 0.5191484273138536, Validation Loss: 1.8599609183071568\n",
            "\tTraining Accuracy: 0.8812375249500998, Validation Accuracy: 0.6923076923076923\n"
          ]
        },
        {
          "output_type": "stream",
          "name": "stderr",
          "text": [
            "\rTraining:  17%|\u001b[32m█▋        \u001b[0m| 17/100 [49:04<4:01:42, 174.73s/it]"
          ]
        },
        {
          "output_type": "stream",
          "name": "stdout",
          "text": [
            "\n",
            "Epoch 16\n",
            "\tTraining Loss: 0.47399685304902844, Validation Loss: 1.813021700566044\n",
            "\tTraining Accuracy: 0.8992015968063872, Validation Accuracy: 0.6736596736596736\n"
          ]
        },
        {
          "output_type": "stream",
          "name": "stderr",
          "text": [
            "\rTraining:  18%|\u001b[32m█▊        \u001b[0m| 18/100 [51:56<3:57:34, 173.83s/it]"
          ]
        },
        {
          "output_type": "stream",
          "name": "stdout",
          "text": [
            "\n",
            "Epoch 17\n",
            "\tTraining Loss: 0.42239104567965613, Validation Loss: 1.852234826182799\n",
            "\tTraining Accuracy: 0.9111776447105788, Validation Accuracy: 0.662004662004662\n",
            "\n",
            "Epoch 18\n",
            "\tTraining Loss: 0.3769001328756293, Validation Loss: 1.906113252848048\n",
            "\tTraining Accuracy: 0.9206586826347305, Validation Accuracy: 0.675990675990676\n",
            "\n",
            "Early stopping at epoch 18 due to overfitting\n"
          ]
        },
        {
          "output_type": "stream",
          "name": "stderr",
          "text": [
            "\rTraining:  18%|\u001b[32m█▊        \u001b[0m| 18/100 [54:52<4:09:58, 182.91s/it]\n"
          ]
        }
      ],
      "source": [
        "train_loss = []\n",
        "val_loss = []\n",
        "train_acc = []\n",
        "val_acc = []\n",
        "\n",
        "save = 1 #set to 1 to save model after every 10 epochs of training\n",
        "sliding_window_width = 15 #set to the width of sliding window to check of overfitting\n",
        "epochs_trained = 0 #number of epochs the model has actually been trained for\n",
        "\n",
        "#training loop\n",
        "epochs_pre_trained = 0\n",
        "for epoch in tqdm(range(epochs_pre_trained, epochs_pre_trained + epochs), desc = \"Training\", colour = \"green\"):\n",
        "    model.train()\n",
        "    total_train_loss = 0\n",
        "    total_train_acc = 0\n",
        "\n",
        "    for batch in train_dataloader:\n",
        "        input_ids, attention_mask, labels, rel_freq_heuristic = batch\n",
        "        input_ids, attention_mask, labels, rel_freq_heuristic = input_ids.to(device), attention_mask.to(device), labels.to(device), rel_freq_heuristic.to(device)\n",
        "\n",
        "        #forward pass\n",
        "        outputs = model(input_ids, attention_mask = attention_mask, labels = labels)\n",
        "        loss = outputs[0]\n",
        "        total_train_loss += loss.item()\n",
        "        #calculating accuracy for batch\n",
        "        total_train_acc += accuracy(outputs[1], labels, rel_freq_heuristic)\n",
        "\n",
        "        #backward pass\n",
        "        loss.backward()\n",
        "\n",
        "        #updating parameters\n",
        "        optimizer.step()\n",
        "        scheduler.step()\n",
        "        model.zero_grad()\n",
        "\n",
        "        # Delete unnecessary values to save memory\n",
        "        del input_ids, attention_mask, labels, outputs, loss\n",
        "\n",
        "    # Calculate average training loss\n",
        "    avg_train_loss = total_train_loss / len(train_dataloader)\n",
        "    #calculating training accuracy\n",
        "    avg_train_acc = total_train_acc / len(train_dataloader)\n",
        "    train_loss.append(avg_train_loss)\n",
        "    train_acc.append(avg_train_acc)\n",
        "\n",
        "    # Validation loop\n",
        "    model.eval()\n",
        "    total_val_loss = 0\n",
        "    total_val_acc = 0\n",
        "    for batch in val_dataloader:\n",
        "        input_ids, attention_mask, labels, rel_freq_heuristic = batch\n",
        "        input_ids, attention_mask, labels, rel_freq_heuristic = input_ids.to(device), attention_mask.to(device), labels.to(device), rel_freq_heuristic.to(device)\n",
        "\n",
        "        with torch.no_grad():\n",
        "            outputs = model(input_ids, attention_mask=attention_mask, labels=labels)\n",
        "            loss = outputs[0]\n",
        "            total_val_loss += loss.item()\n",
        "            #calculating accuracy for batch\n",
        "            total_val_acc += accuracy(outputs[1], labels, rel_freq_heuristic)\n",
        "        \n",
        "        #deleting unnecessary values to save memory\n",
        "        del input_ids, attention_mask, labels, outputs, loss\n",
        "\n",
        "    #calculating average validation loss\n",
        "    avg_val_loss = total_val_loss / len(val_dataloader)\n",
        "    avg_val_acc = total_val_acc / len(val_dataloader)\n",
        "    val_loss.append(avg_val_loss)\n",
        "    val_acc.append(avg_val_acc)   \n",
        "\n",
        "    print(f\"\\nEpoch {epoch}\\n\\tTraining Loss: {avg_train_loss}, Validation Loss: {avg_val_loss}\\n\\tTraining Accuracy: {avg_train_acc}, Validation Accuracy: {avg_val_acc}\")\n",
        "\n",
        "    # if (epoch + 1) % 10 == 0 and save:\n",
        "    #     model.save_pretrained('roberta_model_' + str(epoch + 1) + '_epochs')\n",
        "    \n",
        "    #early stopping\n",
        "    epochs_trained = epoch + 1\n",
        "    if epoch > sliding_window_width:\n",
        "        window = val_loss[epoch - sliding_window_width: epoch]\n",
        "        if all(val_loss[epoch] > x for x in window):\n",
        "            print(f\"\\nEarly stopping at epoch {epoch} due to overfitting\")\n",
        "            model.save_pretrained('roberta_model_' + str(epoch + 1) + '_epochs')\n",
        "            break\n",
        "    "
      ]
    },
    {
      "cell_type": "code",
      "execution_count": 14,
      "metadata": {
        "id": "QWyLrhreLzse",
        "colab": {
          "base_uri": "https://localhost:8080/",
          "height": 927
        },
        "outputId": "7fd08c1f-eb60-4249-dc6a-c7b1c32aae2d"
      },
      "outputs": [
        {
          "output_type": "display_data",
          "data": {
            "text/plain": [
              "<Figure size 640x480 with 1 Axes>"
            ],
            "image/png": "[encoded data removed]"
          },
          "metadata": {}
        },
        {
          "output_type": "display_data",
          "data": {
            "text/plain": [
              "<Figure size 640x480 with 1 Axes>"
            ],
            "image/png": "[encoded data removed]"
          },
          "metadata": {}
        }
      ],
      "source": [
        "#plotting the training and validation loss\n",
        "plt.plot(list(range(epochs_trained)), train_loss, label = 'Training loss')\n",
        "plt.plot(list(range(epochs_trained)), val_loss, label = 'Validation loss')\n",
        "plt.title(\"Loss V. Num Epochs for RoBERTa\")\n",
        "plt.xlabel(\"Number of Epochs\")\n",
        "plt.ylabel(\"Loss\")\n",
        "plt.legend()\n",
        "plt.show()\n",
        "\n",
        "#plotting the training and validation accuracy\n",
        "plt.plot(list(range(epochs_trained)), train_acc, label = 'Training accuracy')\n",
        "plt.plot(list(range(epochs_trained)), val_acc, label = 'Validation accuracy')\n",
        "plt.axhline(y = 0.672093023255814, color = 'r', linestyle = '--')\n",
        "plt.annotate('Test accuracy = 67.21%', xy = (1, 0.672093023255814), xytext=(1, 0.7))\n",
        "plt.title(\"Accuracy V. Num Epochs for RoBERTa\")\n",
        "plt.xlabel(\"Number of Epochs\")\n",
        "plt.ylabel(\"Accuracy\")\n",
        "plt.legend()\n",
        "plt.show()"
      ]
    },
    {
      "cell_type": "code",
      "execution_count": 12,
      "metadata": {
        "id": "y4TwTn0wC2S0",
        "colab": {
          "base_uri": "https://localhost:8080/"
        },
        "outputId": "cb54197f-fba8-4ceb-ba8d-a604de62c44e"
      },
      "outputs": [
        {
          "output_type": "stream",
          "name": "stdout",
          "text": [
            "Test Loss: 1.8893946196012155\n",
            "Test Accuracy: 0.672093023255814\n"
          ]
        }
      ],
      "source": [
        "#testing loop\n",
        "model.eval()\n",
        "total_test_loss = 0\n",
        "total_test_acc = 0\n",
        "for batch in test_dataloader:\n",
        "    input_ids, attention_mask, labels, rel_freq_heuristic = batch\n",
        "    input_ids, attention_mask, labels, rel_freq_heuristic = input_ids.to(device), attention_mask.to(device), labels.to(device), rel_freq_heuristic.to(device)\n",
        "\n",
        "    with torch.no_grad():\n",
        "        outputs = model(input_ids, attention_mask=attention_mask, labels=labels)\n",
        "        loss = outputs[0]\n",
        "        total_test_loss += loss.item()\n",
        "        total_test_acc += accuracy(outputs[1], labels, rel_freq_heuristic)\n",
        "\n",
        "    #deleting unnecessary values to save memory\n",
        "    del input_ids, attention_mask, labels, outputs, loss\n",
        "\n",
        "#calculating average test loss\n",
        "avg_test_loss = total_test_loss / len(test_dataloader)\n",
        "avg_test_acc = total_test_acc / len(test_dataloader)\n",
        "print(f\"Test Loss: {avg_test_loss}\")\n",
        "print(f\"Test Accuracy: {avg_test_acc}\")"
      ]
    },
    {
      "cell_type": "code",
      "execution_count": 13,
      "metadata": {
        "id": "HbHLpEuhHl1Q",
        "colab": {
          "base_uri": "https://localhost:8080/"
        },
        "outputId": "77f0fc51-fecc-4e7e-9219-0aea368b18fa"
      },
      "outputs": [
        {
          "output_type": "stream",
          "name": "stdout",
          "text": [
            "[2.7906123753822967, 2.0194509342617675, 1.7779110462949452, 1.604221014385883, 1.4720518229112862, 1.3666878111824066, 1.2600431663566036, 1.156006730453459, 1.055846611381752, 0.9384509544315824, 0.8709645226161867, 0.7870605159123352, 0.6885623183912838, 0.6285941352284218, 0.5595098392874794, 0.5191484273138536, 0.47399685304902844, 0.42239104567965613, 0.3769001328756293]\n",
            "[2.169414976954738, 1.8344426338836586, 1.6637751869509965, 1.596348577020538, 1.634482542968991, 1.5971683255702882, 1.66721117979302, 1.504212224604193, 1.6007764394870483, 1.6085647661933602, 1.6191815063205388, 1.759597222231728, 1.609919465548578, 1.6768478394121296, 1.7677993018729374, 1.8599609183071568, 1.813021700566044, 1.852234826182799, 1.906113252848048]\n",
            "[0.38073852295409183, 0.5379241516966068, 0.5893213572854291, 0.6347305389221557, 0.6746506986027944, 0.6991017964071856, 0.7320359281437125, 0.7430139720558883, 0.7614770459081837, 0.8008982035928144, 0.812874251497006, 0.8318363273453094, 0.8547904191616766, 0.8707584830339321, 0.8837325349301397, 0.8812375249500998, 0.8992015968063872, 0.9111776447105788, 0.9206586826347305]\n",
            "[0.5034965034965035, 0.578088578088578, 0.6177156177156177, 0.6643356643356644, 0.6480186480186481, 0.6526806526806527, 0.668997668997669, 0.6853146853146853, 0.682983682983683, 0.6783216783216783, 0.682983682983683, 0.696969696969697, 0.6993006993006993, 0.710955710955711, 0.6923076923076923, 0.6923076923076923, 0.6736596736596736, 0.662004662004662, 0.675990675990676]\n"
          ]
        }
      ],
      "source": [
        "print(train_loss)\n",
        "print(val_loss)\n",
        "print(train_acc)\n",
        "print(val_acc)\n",
        "\n",
        "# Save the training and validation loss and accuracy to a pickle file\n",
        "with open('loss_acc_roberta.pickle', 'wb') as f:\n",
        "    f.truncate(0)\n",
        "    pickle.dump((train_loss, val_loss, train_acc, val_acc), f)\n",
        "#close file\n",
        "f.close()"
      ]
    }
  ],
  "metadata": {
    "accelerator": "GPU",
    "colab": {
      "provenance": []
    },
    "gpuClass": "standard",
    "kernelspec": {
      "display_name": "Python 3",
      "language": "python",
      "name": "python3"
    },
    "language_info": {
      "codemirror_mode": {
        "name": "ipython",
        "version": 3
      },
      "file_extension": ".py",
      "mimetype": "text/x-python",
      "name": "python",
      "nbconvert_exporter": "python",
      "pygments_lexer": "ipython3",
      "version": "3.10.0"
    },
    "widgets": {
      "application/vnd.jupyter.widget-state+json": {
        "9f9cf4a6215549cd85f5f7d11ca4e520": {
          "model_module": "@jupyter-widgets/controls",
          "model_name": "HBoxModel",
          "model_module_version": "1.5.0",
          "state": {
            "_dom_classes": [],
            "_model_module": "@jupyter-widgets/controls",
            "_model_module_version": "1.5.0",
            "_model_name": "HBoxModel",
            "_view_count": null,
            "_view_module": "@jupyter-widgets/controls",
            "_view_module_version": "1.5.0",
            "_view_name": "HBoxView",
            "box_style": "",
            "children": [
              "IPY_MODEL_262bc83c22a94ee89a8cfdeb4795c37b",
              "IPY_MODEL_8bb7e29546ec4a0395174a3c6717b6c5",
              "IPY_MODEL_e16405134c0348ab9ac2422f35cf85b1"
            ],
            "layout": "IPY_MODEL_a61f9b940d4a4c69a75930d4ef13c99e"
          }
        },
        "262bc83c22a94ee89a8cfdeb4795c37b": {
          "model_module": "@jupyter-widgets/controls",
          "model_name": "HTMLModel",
          "model_module_version": "1.5.0",
          "state": {
            "_dom_classes": [],
            "_model_module": "@jupyter-widgets/controls",
            "_model_module_version": "1.5.0",
            "_model_name": "HTMLModel",
            "_view_count": null,
            "_view_module": "@jupyter-widgets/controls",
            "_view_module_version": "1.5.0",
            "_view_name": "HTMLView",
            "description": "",
            "description_tooltip": null,
            "layout": "IPY_MODEL_9677a72b279743b58e2e45d9e2c60b1e",
            "placeholder": "​",
            "style": "IPY_MODEL_f33208bde581472bb8ad4b999f988624",
            "value": "Downloading (…)olve/main/vocab.json: 100%"
          }
        },
        "8bb7e29546ec4a0395174a3c6717b6c5": {
          "model_module": "@jupyter-widgets/controls",
          "model_name": "FloatProgressModel",
          "model_module_version": "1.5.0",
          "state": {
            "_dom_classes": [],
            "_model_module": "@jupyter-widgets/controls",
            "_model_module_version": "1.5.0",
            "_model_name": "FloatProgressModel",
            "_view_count": null,
            "_view_module": "@jupyter-widgets/controls",
            "_view_module_version": "1.5.0",
            "_view_name": "ProgressView",
            "bar_style": "success",
            "description": "",
            "description_tooltip": null,
            "layout": "IPY_MODEL_83c58c1051a5493588fe5376eb1753f2",
            "max": 898823,
            "min": 0,
            "orientation": "horizontal",
            "style": "IPY_MODEL_642ae5a50d92444992122f1d00954865",
            "value": 898823
          }
        },
        "e16405134c0348ab9ac2422f35cf85b1": {
          "model_module": "@jupyter-widgets/controls",
          "model_name": "HTMLModel",
          "model_module_version": "1.5.0",
          "state": {
            "_dom_classes": [],
            "_model_module": "@jupyter-widgets/controls",
            "_model_module_version": "1.5.0",
            "_model_name": "HTMLModel",
            "_view_count": null,
            "_view_module": "@jupyter-widgets/controls",
            "_view_module_version": "1.5.0",
            "_view_name": "HTMLView",
            "description": "",
            "description_tooltip": null,
            "layout": "IPY_MODEL_51906006cb274e5ca9bb222e4ac5e770",
            "placeholder": "​",
            "style": "IPY_MODEL_f0583f3a63644e1890eb0368b04e941f",
            "value": " 899k/899k [00:00&lt;00:00, 7.84MB/s]"
          }
        },
        "a61f9b940d4a4c69a75930d4ef13c99e": {
          "model_module": "@jupyter-widgets/base",
          "model_name": "LayoutModel",
          "model_module_version": "1.2.0",
          "state": {
            "_model_module": "@jupyter-widgets/base",
            "_model_module_version": "1.2.0",
            "_model_name": "LayoutModel",
            "_view_count": null,
            "_view_module": "@jupyter-widgets/base",
            "_view_module_version": "1.2.0",
            "_view_name": "LayoutView",
            "align_content": null,
            "align_items": null,
            "align_self": null,
            "border": null,
            "bottom": null,
            "display": null,
            "flex": null,
            "flex_flow": null,
            "grid_area": null,
            "grid_auto_columns": null,
            "grid_auto_flow": null,
            "grid_auto_rows": null,
            "grid_column": null,
            "grid_gap": null,
            "grid_row": null,
            "grid_template_areas": null,
            "grid_template_columns": null,
            "grid_template_rows": null,
            "height": null,
            "justify_content": null,
            "justify_items": null,
            "left": null,
            "margin": null,
            "max_height": null,
            "max_width": null,
            "min_height": null,
            "min_width": null,
            "object_fit": null,
            "object_position": null,
            "order": null,
            "overflow": null,
            "overflow_x": null,
            "overflow_y": null,
            "padding": null,
            "right": null,
            "top": null,
            "visibility": null,
            "width": null
          }
        },
        "9677a72b279743b58e2e45d9e2c60b1e": {
          "model_module": "@jupyter-widgets/base",
          "model_name": "LayoutModel",
          "model_module_version": "1.2.0",
          "state": {
            "_model_module": "@jupyter-widgets/base",
            "_model_module_version": "1.2.0",
            "_model_name": "LayoutModel",
            "_view_count": null,
            "_view_module": "@jupyter-widgets/base",
            "_view_module_version": "1.2.0",
            "_view_name": "LayoutView",
            "align_content": null,
            "align_items": null,
            "align_self": null,
            "border": null,
            "bottom": null,
            "display": null,
            "flex": null,
            "flex_flow": null,
            "grid_area": null,
            "grid_auto_columns": null,
            "grid_auto_flow": null,
            "grid_auto_rows": null,
            "grid_column": null,
            "grid_gap": null,
            "grid_row": null,
            "grid_template_areas": null,
            "grid_template_columns": null,
            "grid_template_rows": null,
            "height": null,
            "justify_content": null,
            "justify_items": null,
            "left": null,
            "margin": null,
            "max_height": null,
            "max_width": null,
            "min_height": null,
            "min_width": null,
            "object_fit": null,
            "object_position": null,
            "order": null,
            "overflow": null,
            "overflow_x": null,
            "overflow_y": null,
            "padding": null,
            "right": null,
            "top": null,
            "visibility": null,
            "width": null
          }
        },
        "f33208bde581472bb8ad4b999f988624": {
          "model_module": "@jupyter-widgets/controls",
          "model_name": "DescriptionStyleModel",
          "model_module_version": "1.5.0",
          "state": {
            "_model_module": "@jupyter-widgets/controls",
            "_model_module_version": "1.5.0",
            "_model_name": "DescriptionStyleModel",
            "_view_count": null,
            "_view_module": "@jupyter-widgets/base",
            "_view_module_version": "1.2.0",
            "_view_name": "StyleView",
            "description_width": ""
          }
        },
        "83c58c1051a5493588fe5376eb1753f2": {
          "model_module": "@jupyter-widgets/base",
          "model_name": "LayoutModel",
          "model_module_version": "1.2.0",
          "state": {
            "_model_module": "@jupyter-widgets/base",
            "_model_module_version": "1.2.0",
            "_model_name": "LayoutModel",
            "_view_count": null,
            "_view_module": "@jupyter-widgets/base",
            "_view_module_version": "1.2.0",
            "_view_name": "LayoutView",
            "align_content": null,
            "align_items": null,
            "align_self": null,
            "border": null,
            "bottom": null,
            "display": null,
            "flex": null,
            "flex_flow": null,
            "grid_area": null,
            "grid_auto_columns": null,
            "grid_auto_flow": null,
            "grid_auto_rows": null,
            "grid_column": null,
            "grid_gap": null,
            "grid_row": null,
            "grid_template_areas": null,
            "grid_template_columns": null,
            "grid_template_rows": null,
            "height": null,
            "justify_content": null,
            "justify_items": null,
            "left": null,
            "margin": null,
            "max_height": null,
            "max_width": null,
            "min_height": null,
            "min_width": null,
            "object_fit": null,
            "object_position": null,
            "order": null,
            "overflow": null,
            "overflow_x": null,
            "overflow_y": null,
            "padding": null,
            "right": null,
            "top": null,
            "visibility": null,
            "width": null
          }
        },
        "642ae5a50d92444992122f1d00954865": {
          "model_module": "@jupyter-widgets/controls",
          "model_name": "ProgressStyleModel",
          "model_module_version": "1.5.0",
          "state": {
            "_model_module": "@jupyter-widgets/controls",
            "_model_module_version": "1.5.0",
            "_model_name": "ProgressStyleModel",
            "_view_count": null,
            "_view_module": "@jupyter-widgets/base",
            "_view_module_version": "1.2.0",
            "_view_name": "StyleView",
            "bar_color": null,
            "description_width": ""
          }
        },
        "51906006cb274e5ca9bb222e4ac5e770": {
          "model_module": "@jupyter-widgets/base",
          "model_name": "LayoutModel",
          "model_module_version": "1.2.0",
          "state": {
            "_model_module": "@jupyter-widgets/base",
            "_model_module_version": "1.2.0",
            "_model_name": "LayoutModel",
            "_view_count": null,
            "_view_module": "@jupyter-widgets/base",
            "_view_module_version": "1.2.0",
            "_view_name": "LayoutView",
            "align_content": null,
            "align_items": null,
            "align_self": null,
            "border": null,
            "bottom": null,
            "display": null,
            "flex": null,
            "flex_flow": null,
            "grid_area": null,
            "grid_auto_columns": null,
            "grid_auto_flow": null,
            "grid_auto_rows": null,
            "grid_column": null,
            "grid_gap": null,
            "grid_row": null,
            "grid_template_areas": null,
            "grid_template_columns": null,
            "grid_template_rows": null,
            "height": null,
            "justify_content": null,
            "justify_items": null,
            "left": null,
            "margin": null,
            "max_height": null,
            "max_width": null,
            "min_height": null,
            "min_width": null,
            "object_fit": null,
            "object_position": null,
            "order": null,
            "overflow": null,
            "overflow_x": null,
            "overflow_y": null,
            "padding": null,
            "right": null,
            "top": null,
            "visibility": null,
            "width": null
          }
        },
        "f0583f3a63644e1890eb0368b04e941f": {
          "model_module": "@jupyter-widgets/controls",
          "model_name": "DescriptionStyleModel",
          "model_module_version": "1.5.0",
          "state": {
            "_model_module": "@jupyter-widgets/controls",
            "_model_module_version": "1.5.0",
            "_model_name": "DescriptionStyleModel",
            "_view_count": null,
            "_view_module": "@jupyter-widgets/base",
            "_view_module_version": "1.2.0",
            "_view_name": "StyleView",
            "description_width": ""
          }
        },
        "473a101e94004461858cb698270bcdd2": {
          "model_module": "@jupyter-widgets/controls",
          "model_name": "HBoxModel",
          "model_module_version": "1.5.0",
          "state": {
            "_dom_classes": [],
            "_model_module": "@jupyter-widgets/controls",
            "_model_module_version": "1.5.0",
            "_model_name": "HBoxModel",
            "_view_count": null,
            "_view_module": "@jupyter-widgets/controls",
            "_view_module_version": "1.5.0",
            "_view_name": "HBoxView",
            "box_style": "",
            "children": [
              "IPY_MODEL_c22ae4ccf9064f15bf3b4f1d38b49dc0",
              "IPY_MODEL_2c64b9e786524d5e90c361f649e30497",
              "IPY_MODEL_0a2c494e57a84f82b423d22b1db2a560"
            ],
            "layout": "IPY_MODEL_0233e21e20ad41748be82c6513ee9909"
          }
        },
        "c22ae4ccf9064f15bf3b4f1d38b49dc0": {
          "model_module": "@jupyter-widgets/controls",
          "model_name": "HTMLModel",
          "model_module_version": "1.5.0",
          "state": {
            "_dom_classes": [],
            "_model_module": "@jupyter-widgets/controls",
            "_model_module_version": "1.5.0",
            "_model_name": "HTMLModel",
            "_view_count": null,
            "_view_module": "@jupyter-widgets/controls",
            "_view_module_version": "1.5.0",
            "_view_name": "HTMLView",
            "description": "",
            "description_tooltip": null,
            "layout": "IPY_MODEL_112cdc12de454e71b8d020f64ee4efc3",
            "placeholder": "​",
            "style": "IPY_MODEL_c4bee92c7ec547128e3c4983bdb03957",
            "value": "Downloading (…)olve/main/merges.txt: 100%"
          }
        },
        "2c64b9e786524d5e90c361f649e30497": {
          "model_module": "@jupyter-widgets/controls",
          "model_name": "FloatProgressModel",
          "model_module_version": "1.5.0",
          "state": {
            "_dom_classes": [],
            "_model_module": "@jupyter-widgets/controls",
            "_model_module_version": "1.5.0",
            "_model_name": "FloatProgressModel",
            "_view_count": null,
            "_view_module": "@jupyter-widgets/controls",
            "_view_module_version": "1.5.0",
            "_view_name": "ProgressView",
            "bar_style": "success",
            "description": "",
            "description_tooltip": null,
            "layout": "IPY_MODEL_7cfb34a908634d8d9e5b7441952c3f58",
            "max": 456318,
            "min": 0,
            "orientation": "horizontal",
            "style": "IPY_MODEL_6a1d7ba5acf44bf1a83b65afc411caef",
            "value": 456318
          }
        },
        "0a2c494e57a84f82b423d22b1db2a560": {
          "model_module": "@jupyter-widgets/controls",
          "model_name": "HTMLModel",
          "model_module_version": "1.5.0",
          "state": {
            "_dom_classes": [],
            "_model_module": "@jupyter-widgets/controls",
            "_model_module_version": "1.5.0",
            "_model_name": "HTMLModel",
            "_view_count": null,
            "_view_module": "@jupyter-widgets/controls",
            "_view_module_version": "1.5.0",
            "_view_name": "HTMLView",
            "description": "",
            "description_tooltip": null,
            "layout": "IPY_MODEL_419d3ea95d5d415c8eb0bf30fbe44f51",
            "placeholder": "​",
            "style": "IPY_MODEL_74dc66c39a1e460495757366b9924f5d",
            "value": " 456k/456k [00:00&lt;00:00, 6.24MB/s]"
          }
        },
        "0233e21e20ad41748be82c6513ee9909": {
          "model_module": "@jupyter-widgets/base",
          "model_name": "LayoutModel",
          "model_module_version": "1.2.0",
          "state": {
            "_model_module": "@jupyter-widgets/base",
            "_model_module_version": "1.2.0",
            "_model_name": "LayoutModel",
            "_view_count": null,
            "_view_module": "@jupyter-widgets/base",
            "_view_module_version": "1.2.0",
            "_view_name": "LayoutView",
            "align_content": null,
            "align_items": null,
            "align_self": null,
            "border": null,
            "bottom": null,
            "display": null,
            "flex": null,
            "flex_flow": null,
            "grid_area": null,
            "grid_auto_columns": null,
            "grid_auto_flow": null,
            "grid_auto_rows": null,
            "grid_column": null,
            "grid_gap": null,
            "grid_row": null,
            "grid_template_areas": null,
            "grid_template_columns": null,
            "grid_template_rows": null,
            "height": null,
            "justify_content": null,
            "justify_items": null,
            "left": null,
            "margin": null,
            "max_height": null,
            "max_width": null,
            "min_height": null,
            "min_width": null,
            "object_fit": null,
            "object_position": null,
            "order": null,
            "overflow": null,
            "overflow_x": null,
            "overflow_y": null,
            "padding": null,
            "right": null,
            "top": null,
            "visibility": null,
            "width": null
          }
        },
        "112cdc12de454e71b8d020f64ee4efc3": {
          "model_module": "@jupyter-widgets/base",
          "model_name": "LayoutModel",
          "model_module_version": "1.2.0",
          "state": {
            "_model_module": "@jupyter-widgets/base",
            "_model_module_version": "1.2.0",
            "_model_name": "LayoutModel",
            "_view_count": null,
            "_view_module": "@jupyter-widgets/base",
            "_view_module_version": "1.2.0",
            "_view_name": "LayoutView",
            "align_content": null,
            "align_items": null,
            "align_self": null,
            "border": null,
            "bottom": null,
            "display": null,
            "flex": null,
            "flex_flow": null,
            "grid_area": null,
            "grid_auto_columns": null,
            "grid_auto_flow": null,
            "grid_auto_rows": null,
            "grid_column": null,
            "grid_gap": null,
            "grid_row": null,
            "grid_template_areas": null,
            "grid_template_columns": null,
            "grid_template_rows": null,
            "height": null,
            "justify_content": null,
            "justify_items": null,
            "left": null,
            "margin": null,
            "max_height": null,
            "max_width": null,
            "min_height": null,
            "min_width": null,
            "object_fit": null,
            "object_position": null,
            "order": null,
            "overflow": null,
            "overflow_x": null,
            "overflow_y": null,
            "padding": null,
            "right": null,
            "top": null,
            "visibility": null,
            "width": null
          }
        },
        "c4bee92c7ec547128e3c4983bdb03957": {
          "model_module": "@jupyter-widgets/controls",
          "model_name": "DescriptionStyleModel",
          "model_module_version": "1.5.0",
          "state": {
            "_model_module": "@jupyter-widgets/controls",
            "_model_module_version": "1.5.0",
            "_model_name": "DescriptionStyleModel",
            "_view_count": null,
            "_view_module": "@jupyter-widgets/base",
            "_view_module_version": "1.2.0",
            "_view_name": "StyleView",
            "description_width": ""
          }
        },
        "7cfb34a908634d8d9e5b7441952c3f58": {
          "model_module": "@jupyter-widgets/base",
          "model_name": "LayoutModel",
          "model_module_version": "1.2.0",
          "state": {
            "_model_module": "@jupyter-widgets/base",
            "_model_module_version": "1.2.0",
            "_model_name": "LayoutModel",
            "_view_count": null,
            "_view_module": "@jupyter-widgets/base",
            "_view_module_version": "1.2.0",
            "_view_name": "LayoutView",
            "align_content": null,
            "align_items": null,
            "align_self": null,
            "border": null,
            "bottom": null,
            "display": null,
            "flex": null,
            "flex_flow": null,
            "grid_area": null,
            "grid_auto_columns": null,
            "grid_auto_flow": null,
            "grid_auto_rows": null,
            "grid_column": null,
            "grid_gap": null,
            "grid_row": null,
            "grid_template_areas": null,
            "grid_template_columns": null,
            "grid_template_rows": null,
            "height": null,
            "justify_content": null,
            "justify_items": null,
            "left": null,
            "margin": null,
            "max_height": null,
            "max_width": null,
            "min_height": null,
            "min_width": null,
            "object_fit": null,
            "object_position": null,
            "order": null,
            "overflow": null,
            "overflow_x": null,
            "overflow_y": null,
            "padding": null,
            "right": null,
            "top": null,
            "visibility": null,
            "width": null
          }
        },
        "6a1d7ba5acf44bf1a83b65afc411caef": {
          "model_module": "@jupyter-widgets/controls",
          "model_name": "ProgressStyleModel",
          "model_module_version": "1.5.0",
          "state": {
            "_model_module": "@jupyter-widgets/controls",
            "_model_module_version": "1.5.0",
            "_model_name": "ProgressStyleModel",
            "_view_count": null,
            "_view_module": "@jupyter-widgets/base",
            "_view_module_version": "1.2.0",
            "_view_name": "StyleView",
            "bar_color": null,
            "description_width": ""
          }
        },
        "419d3ea95d5d415c8eb0bf30fbe44f51": {
          "model_module": "@jupyter-widgets/base",
          "model_name": "LayoutModel",
          "model_module_version": "1.2.0",
          "state": {
            "_model_module": "@jupyter-widgets/base",
            "_model_module_version": "1.2.0",
            "_model_name": "LayoutModel",
            "_view_count": null,
            "_view_module": "@jupyter-widgets/base",
            "_view_module_version": "1.2.0",
            "_view_name": "LayoutView",
            "align_content": null,
            "align_items": null,
            "align_self": null,
            "border": null,
            "bottom": null,
            "display": null,
            "flex": null,
            "flex_flow": null,
            "grid_area": null,
            "grid_auto_columns": null,
            "grid_auto_flow": null,
            "grid_auto_rows": null,
            "grid_column": null,
            "grid_gap": null,
            "grid_row": null,
            "grid_template_areas": null,
            "grid_template_columns": null,
            "grid_template_rows": null,
            "height": null,
            "justify_content": null,
            "justify_items": null,
            "left": null,
            "margin": null,
            "max_height": null,
            "max_width": null,
            "min_height": null,
            "min_width": null,
            "object_fit": null,
            "object_position": null,
            "order": null,
            "overflow": null,
            "overflow_x": null,
            "overflow_y": null,
            "padding": null,
            "right": null,
            "top": null,
            "visibility": null,
            "width": null
          }
        },
        "74dc66c39a1e460495757366b9924f5d": {
          "model_module": "@jupyter-widgets/controls",
          "model_name": "DescriptionStyleModel",
          "model_module_version": "1.5.0",
          "state": {
            "_model_module": "@jupyter-widgets/controls",
            "_model_module_version": "1.5.0",
            "_model_name": "DescriptionStyleModel",
            "_view_count": null,
            "_view_module": "@jupyter-widgets/base",
            "_view_module_version": "1.2.0",
            "_view_name": "StyleView",
            "description_width": ""
          }
        },
        "89ba740be54a4ee18e18df9bd70b8973": {
          "model_module": "@jupyter-widgets/controls",
          "model_name": "HBoxModel",
          "model_module_version": "1.5.0",
          "state": {
            "_dom_classes": [],
            "_model_module": "@jupyter-widgets/controls",
            "_model_module_version": "1.5.0",
            "_model_name": "HBoxModel",
            "_view_count": null,
            "_view_module": "@jupyter-widgets/controls",
            "_view_module_version": "1.5.0",
            "_view_name": "HBoxView",
            "box_style": "",
            "children": [
              "IPY_MODEL_61bcbf49411642aea5fa1c981523052d",
              "IPY_MODEL_4ea42913ac7a4deeaab1567d498437b7",
              "IPY_MODEL_69f125071df34a48804032ade255d505"
            ],
            "layout": "IPY_MODEL_ec5ab20985a24e3a9e9a35ceb0df611d"
          }
        },
        "61bcbf49411642aea5fa1c981523052d": {
          "model_module": "@jupyter-widgets/controls",
          "model_name": "HTMLModel",
          "model_module_version": "1.5.0",
          "state": {
            "_dom_classes": [],
            "_model_module": "@jupyter-widgets/controls",
            "_model_module_version": "1.5.0",
            "_model_name": "HTMLModel",
            "_view_count": null,
            "_view_module": "@jupyter-widgets/controls",
            "_view_module_version": "1.5.0",
            "_view_name": "HTMLView",
            "description": "",
            "description_tooltip": null,
            "layout": "IPY_MODEL_68f013c4e532408899c68249028d78c5",
            "placeholder": "​",
            "style": "IPY_MODEL_6fd262ffcdd840fb845b76cecce98204",
            "value": "Downloading (…)lve/main/config.json: 100%"
          }
        },
        "4ea42913ac7a4deeaab1567d498437b7": {
          "model_module": "@jupyter-widgets/controls",
          "model_name": "FloatProgressModel",
          "model_module_version": "1.5.0",
          "state": {
            "_dom_classes": [],
            "_model_module": "@jupyter-widgets/controls",
            "_model_module_version": "1.5.0",
            "_model_name": "FloatProgressModel",
            "_view_count": null,
            "_view_module": "@jupyter-widgets/controls",
            "_view_module_version": "1.5.0",
            "_view_name": "ProgressView",
            "bar_style": "success",
            "description": "",
            "description_tooltip": null,
            "layout": "IPY_MODEL_44a264e7e1b84016a4bf4d8ee757640a",
            "max": 481,
            "min": 0,
            "orientation": "horizontal",
            "style": "IPY_MODEL_47a1bf9346b64425b1b6e31f5e4bd1ef",
            "value": 481
          }
        },
        "69f125071df34a48804032ade255d505": {
          "model_module": "@jupyter-widgets/controls",
          "model_name": "HTMLModel",
          "model_module_version": "1.5.0",
          "state": {
            "_dom_classes": [],
            "_model_module": "@jupyter-widgets/controls",
            "_model_module_version": "1.5.0",
            "_model_name": "HTMLModel",
            "_view_count": null,
            "_view_module": "@jupyter-widgets/controls",
            "_view_module_version": "1.5.0",
            "_view_name": "HTMLView",
            "description": "",
            "description_tooltip": null,
            "layout": "IPY_MODEL_afba9abfc227456dbc8facfec8e1ad69",
            "placeholder": "​",
            "style": "IPY_MODEL_105b5aa5f9514608a780dd83247c692a",
            "value": " 481/481 [00:00&lt;00:00, 21.1kB/s]"
          }
        },
        "ec5ab20985a24e3a9e9a35ceb0df611d": {
          "model_module": "@jupyter-widgets/base",
          "model_name": "LayoutModel",
          "model_module_version": "1.2.0",
          "state": {
            "_model_module": "@jupyter-widgets/base",
            "_model_module_version": "1.2.0",
            "_model_name": "LayoutModel",
            "_view_count": null,
            "_view_module": "@jupyter-widgets/base",
            "_view_module_version": "1.2.0",
            "_view_name": "LayoutView",
            "align_content": null,
            "align_items": null,
            "align_self": null,
            "border": null,
            "bottom": null,
            "display": null,
            "flex": null,
            "flex_flow": null,
            "grid_area": null,
            "grid_auto_columns": null,
            "grid_auto_flow": null,
            "grid_auto_rows": null,
            "grid_column": null,
            "grid_gap": null,
            "grid_row": null,
            "grid_template_areas": null,
            "grid_template_columns": null,
            "grid_template_rows": null,
            "height": null,
            "justify_content": null,
            "justify_items": null,
            "left": null,
            "margin": null,
            "max_height": null,
            "max_width": null,
            "min_height": null,
            "min_width": null,
            "object_fit": null,
            "object_position": null,
            "order": null,
            "overflow": null,
            "overflow_x": null,
            "overflow_y": null,
            "padding": null,
            "right": null,
            "top": null,
            "visibility": null,
            "width": null
          }
        },
        "68f013c4e532408899c68249028d78c5": {
          "model_module": "@jupyter-widgets/base",
          "model_name": "LayoutModel",
          "model_module_version": "1.2.0",
          "state": {
            "_model_module": "@jupyter-widgets/base",
            "_model_module_version": "1.2.0",
            "_model_name": "LayoutModel",
            "_view_count": null,
            "_view_module": "@jupyter-widgets/base",
            "_view_module_version": "1.2.0",
            "_view_name": "LayoutView",
            "align_content": null,
            "align_items": null,
            "align_self": null,
            "border": null,
            "bottom": null,
            "display": null,
            "flex": null,
            "flex_flow": null,
            "grid_area": null,
            "grid_auto_columns": null,
            "grid_auto_flow": null,
            "grid_auto_rows": null,
            "grid_column": null,
            "grid_gap": null,
            "grid_row": null,
            "grid_template_areas": null,
            "grid_template_columns": null,
            "grid_template_rows": null,
            "height": null,
            "justify_content": null,
            "justify_items": null,
            "left": null,
            "margin": null,
            "max_height": null,
            "max_width": null,
            "min_height": null,
            "min_width": null,
            "object_fit": null,
            "object_position": null,
            "order": null,
            "overflow": null,
            "overflow_x": null,
            "overflow_y": null,
            "padding": null,
            "right": null,
            "top": null,
            "visibility": null,
            "width": null
          }
        },
        "6fd262ffcdd840fb845b76cecce98204": {
          "model_module": "@jupyter-widgets/controls",
          "model_name": "DescriptionStyleModel",
          "model_module_version": "1.5.0",
          "state": {
            "_model_module": "@jupyter-widgets/controls",
            "_model_module_version": "1.5.0",
            "_model_name": "DescriptionStyleModel",
            "_view_count": null,
            "_view_module": "@jupyter-widgets/base",
            "_view_module_version": "1.2.0",
            "_view_name": "StyleView",
            "description_width": ""
          }
        },
        "44a264e7e1b84016a4bf4d8ee757640a": {
          "model_module": "@jupyter-widgets/base",
          "model_name": "LayoutModel",
          "model_module_version": "1.2.0",
          "state": {
            "_model_module": "@jupyter-widgets/base",
            "_model_module_version": "1.2.0",
            "_model_name": "LayoutModel",
            "_view_count": null,
            "_view_module": "@jupyter-widgets/base",
            "_view_module_version": "1.2.0",
            "_view_name": "LayoutView",
            "align_content": null,
            "align_items": null,
            "align_self": null,
            "border": null,
            "bottom": null,
            "display": null,
            "flex": null,
            "flex_flow": null,
            "grid_area": null,
            "grid_auto_columns": null,
            "grid_auto_flow": null,
            "grid_auto_rows": null,
            "grid_column": null,
            "grid_gap": null,
            "grid_row": null,
            "grid_template_areas": null,
            "grid_template_columns": null,
            "grid_template_rows": null,
            "height": null,
            "justify_content": null,
            "justify_items": null,
            "left": null,
            "margin": null,
            "max_height": null,
            "max_width": null,
            "min_height": null,
            "min_width": null,
            "object_fit": null,
            "object_position": null,
            "order": null,
            "overflow": null,
            "overflow_x": null,
            "overflow_y": null,
            "padding": null,
            "right": null,
            "top": null,
            "visibility": null,
            "width": null
          }
        },
        "47a1bf9346b64425b1b6e31f5e4bd1ef": {
          "model_module": "@jupyter-widgets/controls",
          "model_name": "ProgressStyleModel",
          "model_module_version": "1.5.0",
          "state": {
            "_model_module": "@jupyter-widgets/controls",
            "_model_module_version": "1.5.0",
            "_model_name": "ProgressStyleModel",
            "_view_count": null,
            "_view_module": "@jupyter-widgets/base",
            "_view_module_version": "1.2.0",
            "_view_name": "StyleView",
            "bar_color": null,
            "description_width": ""
          }
        },
        "afba9abfc227456dbc8facfec8e1ad69": {
          "model_module": "@jupyter-widgets/base",
          "model_name": "LayoutModel",
          "model_module_version": "1.2.0",
          "state": {
            "_model_module": "@jupyter-widgets/base",
            "_model_module_version": "1.2.0",
            "_model_name": "LayoutModel",
            "_view_count": null,
            "_view_module": "@jupyter-widgets/base",
            "_view_module_version": "1.2.0",
            "_view_name": "LayoutView",
            "align_content": null,
            "align_items": null,
            "align_self": null,
            "border": null,
            "bottom": null,
            "display": null,
            "flex": null,
            "flex_flow": null,
            "grid_area": null,
            "grid_auto_columns": null,
            "grid_auto_flow": null,
            "grid_auto_rows": null,
            "grid_column": null,
            "grid_gap": null,
            "grid_row": null,
            "grid_template_areas": null,
            "grid_template_columns": null,
            "grid_template_rows": null,
            "height": null,
            "justify_content": null,
            "justify_items": null,
            "left": null,
            "margin": null,
            "max_height": null,
            "max_width": null,
            "min_height": null,
            "min_width": null,
            "object_fit": null,
            "object_position": null,
            "order": null,
            "overflow": null,
            "overflow_x": null,
            "overflow_y": null,
            "padding": null,
            "right": null,
            "top": null,
            "visibility": null,
            "width": null
          }
        },
        "105b5aa5f9514608a780dd83247c692a": {
          "model_module": "@jupyter-widgets/controls",
          "model_name": "DescriptionStyleModel",
          "model_module_version": "1.5.0",
          "state": {
            "_model_module": "@jupyter-widgets/controls",
            "_model_module_version": "1.5.0",
            "_model_name": "DescriptionStyleModel",
            "_view_count": null,
            "_view_module": "@jupyter-widgets/base",
            "_view_module_version": "1.2.0",
            "_view_name": "StyleView",
            "description_width": ""
          }
        },
        "121f3728e1bc4853955f13bdfd692e44": {
          "model_module": "@jupyter-widgets/controls",
          "model_name": "HBoxModel",
          "model_module_version": "1.5.0",
          "state": {
            "_dom_classes": [],
            "_model_module": "@jupyter-widgets/controls",
            "_model_module_version": "1.5.0",
            "_model_name": "HBoxModel",
            "_view_count": null,
            "_view_module": "@jupyter-widgets/controls",
            "_view_module_version": "1.5.0",
            "_view_name": "HBoxView",
            "box_style": "",
            "children": [
              "IPY_MODEL_4341037576584eebba5b0c11dd35f294",
              "IPY_MODEL_4e076a2024e34934843f55b55b3213ad",
              "IPY_MODEL_495728e551f347a7a17d7486d8e3d033"
            ],
            "layout": "IPY_MODEL_474602ba2a67470bb38507963706abd9"
          }
        },
        "4341037576584eebba5b0c11dd35f294": {
          "model_module": "@jupyter-widgets/controls",
          "model_name": "HTMLModel",
          "model_module_version": "1.5.0",
          "state": {
            "_dom_classes": [],
            "_model_module": "@jupyter-widgets/controls",
            "_model_module_version": "1.5.0",
            "_model_name": "HTMLModel",
            "_view_count": null,
            "_view_module": "@jupyter-widgets/controls",
            "_view_module_version": "1.5.0",
            "_view_name": "HTMLView",
            "description": "",
            "description_tooltip": null,
            "layout": "IPY_MODEL_a332fb83598f460d9141713451a1205e",
            "placeholder": "​",
            "style": "IPY_MODEL_b86c710536484df5a1c4266758527302",
            "value": "Downloading pytorch_model.bin: 100%"
          }
        },
        "4e076a2024e34934843f55b55b3213ad": {
          "model_module": "@jupyter-widgets/controls",
          "model_name": "FloatProgressModel",
          "model_module_version": "1.5.0",
          "state": {
            "_dom_classes": [],
            "_model_module": "@jupyter-widgets/controls",
            "_model_module_version": "1.5.0",
            "_model_name": "FloatProgressModel",
            "_view_count": null,
            "_view_module": "@jupyter-widgets/controls",
            "_view_module_version": "1.5.0",
            "_view_name": "ProgressView",
            "bar_style": "success",
            "description": "",
            "description_tooltip": null,
            "layout": "IPY_MODEL_7af222e3d36e4af2beb7d69405d59bb7",
            "max": 501200538,
            "min": 0,
            "orientation": "horizontal",
            "style": "IPY_MODEL_9a84507ae3214816b18d9fb01be51aeb",
            "value": 501200538
          }
        },
        "495728e551f347a7a17d7486d8e3d033": {
          "model_module": "@jupyter-widgets/controls",
          "model_name": "HTMLModel",
          "model_module_version": "1.5.0",
          "state": {
            "_dom_classes": [],
            "_model_module": "@jupyter-widgets/controls",
            "_model_module_version": "1.5.0",
            "_model_name": "HTMLModel",
            "_view_count": null,
            "_view_module": "@jupyter-widgets/controls",
            "_view_module_version": "1.5.0",
            "_view_name": "HTMLView",
            "description": "",
            "description_tooltip": null,
            "layout": "IPY_MODEL_c94f7e50e8aa4fa2b9daf794bbe872aa",
            "placeholder": "​",
            "style": "IPY_MODEL_bdbdd686299a464c8f9a41f7a5cea7ea",
            "value": " 501M/501M [00:03&lt;00:00, 106MB/s]"
          }
        },
        "474602ba2a67470bb38507963706abd9": {
          "model_module": "@jupyter-widgets/base",
          "model_name": "LayoutModel",
          "model_module_version": "1.2.0",
          "state": {
            "_model_module": "@jupyter-widgets/base",
            "_model_module_version": "1.2.0",
            "_model_name": "LayoutModel",
            "_view_count": null,
            "_view_module": "@jupyter-widgets/base",
            "_view_module_version": "1.2.0",
            "_view_name": "LayoutView",
            "align_content": null,
            "align_items": null,
            "align_self": null,
            "border": null,
            "bottom": null,
            "display": null,
            "flex": null,
            "flex_flow": null,
            "grid_area": null,
            "grid_auto_columns": null,
            "grid_auto_flow": null,
            "grid_auto_rows": null,
            "grid_column": null,
            "grid_gap": null,
            "grid_row": null,
            "grid_template_areas": null,
            "grid_template_columns": null,
            "grid_template_rows": null,
            "height": null,
            "justify_content": null,
            "justify_items": null,
            "left": null,
            "margin": null,
            "max_height": null,
            "max_width": null,
            "min_height": null,
            "min_width": null,
            "object_fit": null,
            "object_position": null,
            "order": null,
            "overflow": null,
            "overflow_x": null,
            "overflow_y": null,
            "padding": null,
            "right": null,
            "top": null,
            "visibility": null,
            "width": null
          }
        },
        "a332fb83598f460d9141713451a1205e": {
          "model_module": "@jupyter-widgets/base",
          "model_name": "LayoutModel",
          "model_module_version": "1.2.0",
          "state": {
            "_model_module": "@jupyter-widgets/base",
            "_model_module_version": "1.2.0",
            "_model_name": "LayoutModel",
            "_view_count": null,
            "_view_module": "@jupyter-widgets/base",
            "_view_module_version": "1.2.0",
            "_view_name": "LayoutView",
            "align_content": null,
            "align_items": null,
            "align_self": null,
            "border": null,
            "bottom": null,
            "display": null,
            "flex": null,
            "flex_flow": null,
            "grid_area": null,
            "grid_auto_columns": null,
            "grid_auto_flow": null,
            "grid_auto_rows": null,
            "grid_column": null,
            "grid_gap": null,
            "grid_row": null,
            "grid_template_areas": null,
            "grid_template_columns": null,
            "grid_template_rows": null,
            "height": null,
            "justify_content": null,
            "justify_items": null,
            "left": null,
            "margin": null,
            "max_height": null,
            "max_width": null,
            "min_height": null,
            "min_width": null,
            "object_fit": null,
            "object_position": null,
            "order": null,
            "overflow": null,
            "overflow_x": null,
            "overflow_y": null,
            "padding": null,
            "right": null,
            "top": null,
            "visibility": null,
            "width": null
          }
        },
        "b86c710536484df5a1c4266758527302": {
          "model_module": "@jupyter-widgets/controls",
          "model_name": "DescriptionStyleModel",
          "model_module_version": "1.5.0",
          "state": {
            "_model_module": "@jupyter-widgets/controls",
            "_model_module_version": "1.5.0",
            "_model_name": "DescriptionStyleModel",
            "_view_count": null,
            "_view_module": "@jupyter-widgets/base",
            "_view_module_version": "1.2.0",
            "_view_name": "StyleView",
            "description_width": ""
          }
        },
        "7af222e3d36e4af2beb7d69405d59bb7": {
          "model_module": "@jupyter-widgets/base",
          "model_name": "LayoutModel",
          "model_module_version": "1.2.0",
          "state": {
            "_model_module": "@jupyter-widgets/base",
            "_model_module_version": "1.2.0",
            "_model_name": "LayoutModel",
            "_view_count": null,
            "_view_module": "@jupyter-widgets/base",
            "_view_module_version": "1.2.0",
            "_view_name": "LayoutView",
            "align_content": null,
            "align_items": null,
            "align_self": null,
            "border": null,
            "bottom": null,
            "display": null,
            "flex": null,
            "flex_flow": null,
            "grid_area": null,
            "grid_auto_columns": null,
            "grid_auto_flow": null,
            "grid_auto_rows": null,
            "grid_column": null,
            "grid_gap": null,
            "grid_row": null,
            "grid_template_areas": null,
            "grid_template_columns": null,
            "grid_template_rows": null,
            "height": null,
            "justify_content": null,
            "justify_items": null,
            "left": null,
            "margin": null,
            "max_height": null,
            "max_width": null,
            "min_height": null,
            "min_width": null,
            "object_fit": null,
            "object_position": null,
            "order": null,
            "overflow": null,
            "overflow_x": null,
            "overflow_y": null,
            "padding": null,
            "right": null,
            "top": null,
            "visibility": null,
            "width": null
          }
        },
        "9a84507ae3214816b18d9fb01be51aeb": {
          "model_module": "@jupyter-widgets/controls",
          "model_name": "ProgressStyleModel",
          "model_module_version": "1.5.0",
          "state": {
            "_model_module": "@jupyter-widgets/controls",
            "_model_module_version": "1.5.0",
            "_model_name": "ProgressStyleModel",
            "_view_count": null,
            "_view_module": "@jupyter-widgets/base",
            "_view_module_version": "1.2.0",
            "_view_name": "StyleView",
            "bar_color": null,
            "description_width": ""
          }
        },
        "c94f7e50e8aa4fa2b9daf794bbe872aa": {
          "model_module": "@jupyter-widgets/base",
          "model_name": "LayoutModel",
          "model_module_version": "1.2.0",
          "state": {
            "_model_module": "@jupyter-widgets/base",
            "_model_module_version": "1.2.0",
            "_model_name": "LayoutModel",
            "_view_count": null,
            "_view_module": "@jupyter-widgets/base",
            "_view_module_version": "1.2.0",
            "_view_name": "LayoutView",
            "align_content": null,
            "align_items": null,
            "align_self": null,
            "border": null,
            "bottom": null,
            "display": null,
            "flex": null,
            "flex_flow": null,
            "grid_area": null,
            "grid_auto_columns": null,
            "grid_auto_flow": null,
            "grid_auto_rows": null,
            "grid_column": null,
            "grid_gap": null,
            "grid_row": null,
            "grid_template_areas": null,
            "grid_template_columns": null,
            "grid_template_rows": null,
            "height": null,
            "justify_content": null,
            "justify_items": null,
            "left": null,
            "margin": null,
            "max_height": null,
            "max_width": null,
            "min_height": null,
            "min_width": null,
            "object_fit": null,
            "object_position": null,
            "order": null,
            "overflow": null,
            "overflow_x": null,
            "overflow_y": null,
            "padding": null,
            "right": null,
            "top": null,
            "visibility": null,
            "width": null
          }
        },
        "bdbdd686299a464c8f9a41f7a5cea7ea": {
          "model_module": "@jupyter-widgets/controls",
          "model_name": "DescriptionStyleModel",
          "model_module_version": "1.5.0",
          "state": {
            "_model_module": "@jupyter-widgets/controls",
            "_model_module_version": "1.5.0",
            "_model_name": "DescriptionStyleModel",
            "_view_count": null,
            "_view_module": "@jupyter-widgets/base",
            "_view_module_version": "1.2.0",
            "_view_name": "StyleView",
            "description_width": ""
          }
        }
      }
    }
  },
  "nbformat": 4,
  "nbformat_minor": 0
}