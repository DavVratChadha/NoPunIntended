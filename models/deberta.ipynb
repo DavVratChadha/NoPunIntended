{
  "nbformat": 4,
  "nbformat_minor": 0,
  "metadata": {
    "colab": {
      "provenance": []
    },
    "kernelspec": {
      "name": "python3",
      "display_name": "Python 3"
    },
    "language_info": {
      "name": "python"
    },
    "accelerator": "GPU",
    "gpuClass": "standard"
  },
  "cells": [
    {
      "cell_type": "code",
      "source": [
        "!pip install transformers #installing because we want to use pre_trained models, both from huggingface and our own models"
      ],
      "metadata": {
        "colab": {
          "base_uri": "https://localhost:8080/"
        },
        "id": "ZZPJ1KZIlqdD",
        "outputId": "3874cff9-2c24-4f76-8257-4d0bbacb6b26"
      },
      "execution_count": 1,
      "outputs": [
        {
          "output_type": "stream",
          "name": "stdout",
          "text": [
            "Looking in indexes: https://pypi.org/simple, https://us-python.pkg.dev/colab-wheels/public/simple/\n",
            "Requirement already satisfied: transformers in /usr/local/lib/python3.9/dist-packages (4.28.0)\n",
            "Requirement already satisfied: pyyaml>=5.1 in /usr/local/lib/python3.9/dist-packages (from transformers) (6.0)\n",
            "Requirement already satisfied: numpy>=1.17 in /usr/local/lib/python3.9/dist-packages (from transformers) (1.22.4)\n",
            "Requirement already satisfied: regex!=2019.12.17 in /usr/local/lib/python3.9/dist-packages (from transformers) (2022.10.31)\n",
            "Requirement already satisfied: packaging>=20.0 in /usr/local/lib/python3.9/dist-packages (from transformers) (23.0)\n",
            "Requirement already satisfied: requests in /usr/local/lib/python3.9/dist-packages (from transformers) (2.27.1)\n",
            "Requirement already satisfied: tqdm>=4.27 in /usr/local/lib/python3.9/dist-packages (from transformers) (4.65.0)\n",
            "Requirement already satisfied: huggingface-hub<1.0,>=0.11.0 in /usr/local/lib/python3.9/dist-packages (from transformers) (0.13.4)\n",
            "Requirement already satisfied: tokenizers!=0.11.3,<0.14,>=0.11.1 in /usr/local/lib/python3.9/dist-packages (from transformers) (0.13.3)\n",
            "Requirement already satisfied: filelock in /usr/local/lib/python3.9/dist-packages (from transformers) (3.11.0)\n",
            "Requirement already satisfied: typing-extensions>=3.7.4.3 in /usr/local/lib/python3.9/dist-packages (from huggingface-hub<1.0,>=0.11.0->transformers) (4.5.0)\n",
            "Requirement already satisfied: urllib3<1.27,>=1.21.1 in /usr/local/lib/python3.9/dist-packages (from requests->transformers) (1.26.15)\n",
            "Requirement already satisfied: charset-normalizer~=2.0.0 in /usr/local/lib/python3.9/dist-packages (from requests->transformers) (2.0.12)\n",
            "Requirement already satisfied: certifi>=2017.4.17 in /usr/local/lib/python3.9/dist-packages (from requests->transformers) (2022.12.7)\n",
            "Requirement already satisfied: idna<4,>=2.5 in /usr/local/lib/python3.9/dist-packages (from requests->transformers) (3.4)\n"
          ]
        }
      ]
    },
    {
      "cell_type": "code",
      "source": [
        "import pickle\n",
        "import torch\n",
        "from transformers import DebertaTokenizer, DebertaForSequenceClassification\n",
        "from torch.utils.data import TensorDataset, DataLoader\n",
        "import random\n",
        "from sklearn.model_selection import train_test_split\n",
        "import numpy as np\n",
        "from transformers import get_linear_schedule_with_warmup\n",
        "from torch.optim import Adam, NAdam\n",
        "from tqdm import tqdm\n",
        "import matplotlib.pyplot as plt\n",
        "from sklearn.cluster import KMeans\n",
        "import math"
      ],
      "metadata": {
        "id": "CG1VcwTQlq5e"
      },
      "execution_count": 2,
      "outputs": []
    },
    {
      "cell_type": "code",
      "source": [
        "import warnings\n",
        "warnings.filterwarnings('ignore', category=UserWarning) #ignoring UserWarning from colab because I know what I am doing here\n",
        "warnings.filterwarnings('ignore', category=FutureWarning)\n",
        "warnings.filterwarnings('ignore', category=DeprecationWarning)"
      ],
      "metadata": {
        "id": "2-93sR_SZKwI"
      },
      "execution_count": 3,
      "outputs": []
    },
    {
      "cell_type": "code",
      "source": [
        "from google.colab import drive\n",
        "drive.mount('/content/drive')\n",
        "base_dir = '/content/drive/My Drive/ESC324projectdrive/dav/'"
      ],
      "metadata": {
        "colab": {
          "base_uri": "https://localhost:8080/"
        },
        "id": "11ML7mFElsen",
        "outputId": "ceeff636-7662-4d5c-8d9e-9c35e5ef0c1a"
      },
      "execution_count": 4,
      "outputs": [
        {
          "output_type": "stream",
          "name": "stdout",
          "text": [
            "Drive already mounted at /content/drive; to attempt to forcibly remount, call drive.mount(\"/content/drive\", force_remount=True).\n"
          ]
        }
      ]
    },
    {
      "cell_type": "code",
      "source": [
        "# Simplify the code by creating a function to load pickle files\n",
        "def load_pickle(file_path):\n",
        "    with open(file_path, 'rb') as f:\n",
        "        data = pickle.load(f)\n",
        "    return data\n",
        "\n",
        "# Load the pickle files using the function\n",
        "neg_list_processed = load_pickle(base_dir + 'neg_list_processed.pickle')\n",
        "het_list_processed = load_pickle(base_dir + 'het_list_processed.pickle')\n",
        "homo_list_processed = load_pickle(base_dir + 'homo_list_processed.pickle')\n",
        "rel_freq = load_pickle(base_dir + 'tag_dict.pickle')"
      ],
      "metadata": {
        "id": "WqDdc9tdluD3"
      },
      "execution_count": 5,
      "outputs": []
    },
    {
      "cell_type": "code",
      "source": [
        "print(rel_freq)"
      ],
      "metadata": {
        "colab": {
          "base_uri": "https://localhost:8080/"
        },
        "id": "rSzZVB_vlvla",
        "outputId": "08f12299-e522-4505-b0e0-30f0288cd613"
      },
      "execution_count": 6,
      "outputs": [
        {
          "output_type": "stream",
          "name": "stdout",
          "text": [
            "{'': 0.0003436426116838488, \"''\": 0.0003436426116838488, ',': 0.0003436426116838488, '-LRB-': 0.0003436426116838488, '-RRB-': 0.0003436426116838488, '.': 0.0003436426116838488, ':': 0.0003436426116838488, 'CC': 0.0003436426116838488, 'CD': 0.0010309278350515464, 'DT': 0.0003436426116838488, 'EX': 0.0003436426116838488, 'FW': 0.0006872852233676976, 'HYPH': 0.0003436426116838488, 'IN': 0.0024054982817869417, 'JJ': 0.11134020618556702, 'JJR': 0.0013745704467353953, 'JJS': 0.0013745704467353953, 'LS': 0.0003436426116838488, 'MD': 0.0013745704467353953, 'NFP': 0.0003436426116838488, 'NN': 0.3518900343642612, 'NNP': 0.07835051546391752, 'NNPS': 0.0013745704467353953, 'NNS': 0.09725085910652921, 'PDT': 0.0003436426116838488, 'POS': 0.0003436426116838488, 'PRP': 0.0006872852233676976, 'PRP$': 0.0003436426116838488, 'RB': 0.06632302405498282, 'RBR': 0.0006872852233676976, 'RBS': 0.0003436426116838488, 'RP': 0.001718213058419244, 'TO': 0.0003436426116838488, 'UH': 0.002061855670103093, 'VB': 0.07835051546391752, 'VBD': 0.05979381443298969, 'VBG': 0.03573883161512027, 'VBN': 0.05910652920962199, 'VBP': 0.032989690721649485, 'VBZ': 0.005498281786941581, 'WDT': 0.0003436426116838488, 'WP': 0.0003436426116838488, 'WP$': 0.0003436426116838488, 'WRB': 0.0003436426116838488, 'XX': 0.0003436426116838488, '_SP': 0.0003436426116838488, '``': 0.0003436426116838488}\n"
          ]
        }
      ]
    },
    {
      "cell_type": "code",
      "source": [
        "tokenizer = DebertaTokenizer.from_pretrained('microsoft/deberta-base')\n",
        "\n",
        "seed = 42\n",
        "random.seed(seed)\n",
        "np.random.seed(seed)\n",
        "torch.manual_seed(seed)\n",
        "torch.cuda.manual_seed(seed)\n",
        "\n",
        "mega_list = homo_list_processed + het_list_processed\n",
        "#shuffling the list\n",
        "random.shuffle(mega_list)"
      ],
      "metadata": {
        "id": "Xs9NyX2XlxH2"
      },
      "execution_count": 7,
      "outputs": []
    },
    {
      "cell_type": "code",
      "source": [
        "#mega_list is a giant list where each sublist of the following format:\n",
        "#[['in/IN', 'the/DT', 'room/NN', 'the/DT', 'curtain/NNS', 'be/VBD', 'draw/VBN', ',/,', 'but/CC', 'the/DT', 'rest/NN', 'of/IN', 'the/DT', 'furniture/NN', 'be/VBD', 'real/JJ', './.'], ['In', 'the', 'room', 'the', 'curtains', 'were', 'drawn', ',', 'but', 'the', 'rest', 'of', 'the', 'furniture', 'was', 'real', '.'], ['draw/VBN']]. the first subsublist in the sublist is contains words in a sentence that have been POS tagged, second subsublist containts the original sentence, and third subsublist contains the pun word that has been POS tagged. Write code to tokenize this data, and fine tune a pretrained RoBERTa model to predict location of puns\n",
        "load_dataset = False\n",
        "if not load_dataset:\n",
        "  input_sentences = [sublist[1] for sublist in mega_list]\n",
        "  pos_sentences = [sublist[0] for sublist in mega_list]\n",
        "  pun_words = [sublist[2][0] for sublist in mega_list]\n",
        "\n",
        "  #calculating the max len for padding the inputs\n",
        "  max_len = 0\n",
        "  longest_joke = \"\"\n",
        "  for sentence in input_sentences:\n",
        "    if len(sentence) > max_len:\n",
        "      max_len = len(sentence)\n",
        "      longest_joke = \" \".join(sentence) \n",
        "  max_len += 2\n",
        "  print(\"Largest sentence in dataset has lenght = \", max_len)\n",
        "  print(\"This joke is:\\n\", longest_joke)\n",
        "\n",
        "  #creating an array of heuristic based on rel_freq mapping for each tag in dataset\n",
        "  rel_freq_heuristic = []\n",
        "  for sentence in pos_sentences:\n",
        "    temp_heuristic = [0]\n",
        "    for word in sentence:\n",
        "      temp_heuristic.append(rel_freq.get(word.split(\"/\")[1], 0))\n",
        "    temp_heuristic += [0]*(max_len - len(temp_heuristic))\n",
        "    rel_freq_heuristic.append(temp_heuristic)\n",
        "  rel_freq_heuristic = torch.tensor(rel_freq_heuristic)\n",
        "\n",
        "  input_ids = []\n",
        "  attention_masks = []\n",
        "  labels = []\n",
        "  k_means_output = []\n",
        "  acc_count = 0\n",
        "  multiplier = 1\n",
        "\n",
        "  for sentence, pun_word, pos_sentence in zip(input_sentences, pun_words, pos_sentences):\n",
        "      encoded_data = tokenizer.encode_plus(\n",
        "          sentence,\n",
        "          add_special_tokens=True,\n",
        "          max_length = max_len, #we are padding all sentences to a max_len elements (words + punction)\n",
        "          pad_to_max_length = True,\n",
        "          return_attention_mask = False,\n",
        "          return_tensors='pt'\n",
        "      )\n",
        "\n",
        "      temp = np.array(encoded_data['input_ids'][0].tolist().copy())\n",
        "      \n",
        "      temp = temp[temp != temp[-1]] #remove padding\n",
        "      num_clusters = max(math.ceil(len(temp)*multiplier), min(4, len(sentence)))\n",
        "\n",
        "      kmeans = KMeans(n_clusters = num_clusters, n_init = 10)\n",
        "      kmeans.fit(temp.reshape(-1, 1))\n",
        "      att_labels = np.array(kmeans.labels_)\n",
        "      k_means_output.append(kmeans.labels_)\n",
        "\n",
        "      unique, count = (np.unique(att_labels, return_counts = True))\n",
        "\n",
        "      idx = np.argsort(count)\n",
        "      count = count[idx]\n",
        "      unique = unique[idx]\n",
        "\n",
        "      first_mode = unique[-1]\n",
        "      attention_mask = torch.tensor([0] * max_len)\n",
        "      indices = np.where(att_labels == first_mode)\n",
        "      attention_mask[indices] = 1\n",
        "\n",
        "      \n",
        "      lone_word = unique[np.where(count == 1)]\n",
        "      lone_word_ind = np.where(np.isin(att_labels, lone_word))[0]\n",
        "      attention_mask[lone_word_ind] = 1\n",
        "\n",
        "      if len(unique) > 1:\n",
        "        second_lowest_chosen = unique[1]\n",
        "        indices2 = np.where(att_labels == second_lowest_chosen)\n",
        "        attention_mask[indices2] = 1      \n",
        "\n",
        "      if attention_mask[pos_sentence.index(pun_word) + 1] == 0:\n",
        "        acc_count += 1\n",
        "                                                  \n",
        "      input_ids.append(encoded_data['input_ids'][0])\n",
        "      attention_masks.append(torch.tensor(attention_mask))\n",
        "      labels.append(pos_sentence.index(pun_word) + 1)\n",
        "  print(\"Max accuracy = \", 1 - acc_count/len(pos_sentences))\n",
        "\n",
        "  #checking if the label index is within the range of max_len, else set it to the first word in the sentence\n",
        "  labels = [label if label < max_len else 0 for label in labels]\n",
        "  input_ids = torch.stack(input_ids, dim = 0)\n",
        "  attention_masks = torch.stack(attention_masks, dim = 0)\n",
        "  labels = torch.tensor(labels)\n",
        "\n",
        "  #splitting the data into train, validation and test sets\n",
        "  train_inputs, val_test_inputs, train_labels, val_test_labels, train_masks, val_test_masks, train_freq_heuristic, val_test_freq_heuristic = train_test_split(input_ids, labels, attention_masks, rel_freq_heuristic, random_state = seed, test_size = 0.3)\n",
        "  val_inputs, test_inputs, val_labels, test_labels, val_masks, test_masks, val_freq_heuristic, test_freq_heuristic = train_test_split(val_test_inputs, val_test_labels, val_test_masks, val_test_freq_heuristic, random_state = seed, test_size = 0.5)\n",
        "\n",
        "  #creating DataLoader\n",
        "  batch_size = 4\n",
        "\n",
        "  train_data = TensorDataset(train_inputs, train_masks, train_labels, train_freq_heuristic)\n",
        "  train_dataloader = DataLoader(train_data, batch_size=batch_size)\n",
        "\n",
        "  val_data = TensorDataset(val_inputs, val_masks, val_labels, val_freq_heuristic)\n",
        "  val_dataloader = DataLoader(val_data, batch_size=batch_size)\n",
        "\n",
        "  test_data = TensorDataset(test_inputs, test_masks, test_labels, test_freq_heuristic)\n",
        "  test_dataloader = DataLoader(test_data, batch_size=batch_size)\n",
        "\n",
        "  print(len(train_dataloader))\n",
        "  print(len(val_dataloader))\n",
        "  print(len(test_dataloader))\n",
        "\n",
        "  #writing the dataloaders to a pickle file so that we can use them later while using ensembles\n",
        "  with open(base_dir + 'dataloaders_deberta_old1.pickle', 'wb') as f:\n",
        "      f.truncate(0)\n",
        "      pickle.dump((train_dataloader, val_dataloader, test_dataloader), f)\n",
        "  #close file\n",
        "  f.close()\n",
        "else:\n",
        "  #load the dataloaders\n",
        "  (train_dataloader, val_dataloader, test_dataloader) = load_pickle(base_dir + 'dataloaders_deberta_old1.pickle')\n",
        "  max_len = 79\n",
        "  print(\"Loaded presaved dataloader\")\n"
      ],
      "metadata": {
        "colab": {
          "base_uri": "https://localhost:8080/"
        },
        "id": "et5wWXO-ly6_",
        "outputId": "24d2254f-7493-49ca-a5e9-7d2e81b46647"
      },
      "execution_count": 8,
      "outputs": [
        {
          "output_type": "stream",
          "name": "stderr",
          "text": [
            "Truncation was not explicitly activated but `max_length` is provided a specific value, please use `truncation=True` to explicitly truncate examples to max length. Defaulting to 'longest_first' truncation strategy. If you encode pairs of sequences (GLUE-style) with the tokenizer you can select this strategy more precisely by providing a specific strategy to `truncation`.\n"
          ]
        },
        {
          "output_type": "stream",
          "name": "stdout",
          "text": [
            "Largest sentence in dataset has lenght =  79\n",
            "This joke is:\n",
            " The celebration of the royal wedding progressed well into the night . As he stumbled outside to await his ride home one inebriated nobleman , attracted by the bright lights , made his way to the theater district and sat down below one of the brightly illuminated theater signs to await his car . The driver , unfamiliar with both the nobleman and the area , was instructed to look for a well - lit marquis .\n",
            "Max accuracy =  0.9706601466992665\n",
            "501\n",
            "108\n",
            "108\n"
          ]
        }
      ]
    },
    {
      "cell_type": "code",
      "source": [
        "#function to calculate accuracy of the model for a given batch of data\n",
        "def accuracy(model_output, ground_truth_labels, rel_freq_heuristic):\n",
        "  model_output = torch.softmax(model_output.detach().cpu(), dim = 1) * rel_freq_heuristic.cpu()\n",
        "  model_output = torch.argmax(model_output, dim=1)\n",
        "  model_output = np.array(model_output)\n",
        "  ground_truth_labels = np.array(ground_truth_labels.detach().cpu())\n",
        "\n",
        "  #checking how many values in model_output are equal to their corresponding values in ground_truth_labels\n",
        "  num_correct = np.sum(model_output == ground_truth_labels)\n",
        "  accuracy_val = num_correct / len(ground_truth_labels)\n",
        "  return accuracy_val"
      ],
      "metadata": {
        "id": "LsAJrUVHl59N"
      },
      "execution_count": 12,
      "outputs": []
    },
    {
      "cell_type": "code",
      "source": [
        "# Fine-tune the DeBERTa model\n",
        "model = DebertaForSequenceClassification.from_pretrained('microsoft/deberta-base', num_labels = max_len)\n",
        "\n",
        "device = torch.device('cuda' if torch.cuda.is_available() else 'cpu')\n",
        "print([\"Using CPU\", \"Using Cuda\"][int(torch.cuda.is_available())])\n",
        "model.to(device)\n",
        "\n",
        "optimizer = NAdam(model.parameters(), lr = 0.000019) #75.92% 0.000019 epoch 10 mult 1 batch_size 4 seed 42 tes_acc 74.0 if let run fully\n",
        "epochs = 200\n",
        "scheduler = get_linear_schedule_with_warmup(optimizer, num_warmup_steps=0, num_training_steps=len(train_dataloader) * epochs)"
      ],
      "metadata": {
        "colab": {
          "base_uri": "https://localhost:8080/"
        },
        "id": "IY8RI9Wul7gM",
        "outputId": "bfa3a2f8-d506-452e-bb27-32315f925602"
      },
      "execution_count": 13,
      "outputs": [
        {
          "output_type": "stream",
          "name": "stderr",
          "text": [
            "Some weights of the model checkpoint at microsoft/deberta-base were not used when initializing DebertaForSequenceClassification: ['lm_predictions.lm_head.LayerNorm.bias', 'lm_predictions.lm_head.bias', 'lm_predictions.lm_head.dense.weight', 'lm_predictions.lm_head.dense.bias', 'lm_predictions.lm_head.LayerNorm.weight']\n",
            "- This IS expected if you are initializing DebertaForSequenceClassification from the checkpoint of a model trained on another task or with another architecture (e.g. initializing a BertForSequenceClassification model from a BertForPreTraining model).\n",
            "- This IS NOT expected if you are initializing DebertaForSequenceClassification from the checkpoint of a model that you expect to be exactly identical (initializing a BertForSequenceClassification model from a BertForSequenceClassification model).\n",
            "Some weights of DebertaForSequenceClassification were not initialized from the model checkpoint at microsoft/deberta-base and are newly initialized: ['classifier.weight', 'pooler.dense.bias', 'pooler.dense.weight', 'classifier.bias']\n",
            "You should probably TRAIN this model on a down-stream task to be able to use it for predictions and inference.\n"
          ]
        },
        {
          "output_type": "stream",
          "name": "stdout",
          "text": [
            "Using Cuda\n"
          ]
        }
      ]
    },
    {
      "cell_type": "code",
      "source": [
        "train_loss = []\n",
        "val_loss = []\n",
        "train_acc = []\n",
        "val_acc = []\n",
        "\n",
        "save = 1 #set to 1 to save model after every 10 epochs of training\n",
        "sliding_window_width = 15 #set to the width of sliding window to check of overfitting\n",
        "epochs_trained = 0 #number of epochs the model has actually been trained for\n",
        "\n",
        "#training loop\n",
        "epochs_pre_trained = 0\n",
        "for epoch in tqdm(range(epochs_pre_trained, epochs_pre_trained + epochs), desc = \"Training\", colour = \"green\"):\n",
        "    model.train()\n",
        "    total_train_loss = 0\n",
        "    total_train_acc = 0\n",
        "\n",
        "    for batch in train_dataloader:\n",
        "        input_ids, attention_mask, labels, rel_freq_heuristic = batch\n",
        "        input_ids, attention_mask, labels, rel_freq_heuristic = input_ids.to(device), attention_mask.to(device), labels.to(device), rel_freq_heuristic.to(device)\n",
        "\n",
        "        #forward pass\n",
        "        outputs = model(input_ids, attention_mask = attention_mask, labels = labels)\n",
        "        loss = outputs[0]\n",
        "        total_train_loss += loss.item()\n",
        "        #calculating accuracy for batch\n",
        "        total_train_acc += accuracy(outputs[1], labels, rel_freq_heuristic)\n",
        "\n",
        "        #backward pass\n",
        "        loss.backward()\n",
        "\n",
        "        #updating parameters\n",
        "        optimizer.step()\n",
        "        scheduler.step()\n",
        "        model.zero_grad()\n",
        "\n",
        "        # Delete unnecessary values to save memory\n",
        "        del input_ids, attention_mask, labels, outputs, loss\n",
        "\n",
        "    # Calculate average training loss\n",
        "    avg_train_loss = total_train_loss / len(train_dataloader)\n",
        "    #calculating training accuracy\n",
        "    avg_train_acc = total_train_acc / len(train_dataloader)\n",
        "    train_loss.append(avg_train_loss)\n",
        "    train_acc.append(avg_train_acc)\n",
        "\n",
        "    # Validation loop\n",
        "    model.eval()\n",
        "    total_val_loss = 0\n",
        "    total_val_acc = 0\n",
        "    for batch in val_dataloader:\n",
        "        input_ids, attention_mask, labels, rel_freq_heuristic = batch\n",
        "        input_ids, attention_mask, labels, rel_freq_heuristic = input_ids.to(device), attention_mask.to(device), labels.to(device), rel_freq_heuristic.to(device)\n",
        "\n",
        "        #Congrats! You have finally made it to here. You found our secret Easter egg!\n",
        "        #Here is a pun for you: Two peanuts walk into a bar, and one was a-salted\n",
        "        #Anyway, let's get back to business and continue on our journey to pun-derful enlightenment.\n",
        "\n",
        "        with torch.no_grad():\n",
        "            outputs = model(input_ids, attention_mask=attention_mask, labels=labels)\n",
        "            loss = outputs[0]\n",
        "            total_val_loss += loss.item()\n",
        "            #calculating accuracy for batch\n",
        "            total_val_acc += accuracy(outputs[1], labels, rel_freq_heuristic)\n",
        "            \n",
        "        #deleting unnecessary values to save memory\n",
        "        del input_ids, attention_mask, labels, outputs, loss\n",
        "\n",
        "    #calculating average validation loss\n",
        "    avg_val_loss = total_val_loss / len(val_dataloader)\n",
        "    avg_val_acc = total_val_acc / len(val_dataloader)\n",
        "    val_loss.append(avg_val_loss)\n",
        "    val_acc.append(avg_val_acc)   \n",
        "\n",
        "    print(f\"\\nEpoch {epoch}\\n\\tTraining Loss: {avg_train_loss}, Validation Loss: {avg_val_loss}\\n\\tTraining Accuracy: {avg_train_acc}, Validation Accuracy: {avg_val_acc}\")\n",
        "\n",
        "    if (epoch + 1) % 10 == 0 and save:\n",
        "        model.save_pretrained(base_dir + 'deberta_model_' + str(epoch + 1) + '_epochs')\n",
        "    \n",
        "    epochs_trained = epoch + 1\n",
        "    #early stopping\n",
        "    if epoch > sliding_window_width:\n",
        "        window = val_loss[epoch - sliding_window_width: epoch]\n",
        "        if all(val_loss[epoch] > x for x in window):\n",
        "            print(f\"\\nEarly stopping at epoch {epoch} due to overfitting\")\n",
        "            model.save_pretrained(base_dir + 'deberta_model_' + str(epoch + 1) + '_epochs')\n",
        "            break"
      ],
      "metadata": {
        "id": "Y8mb9Dopl9cx",
        "colab": {
          "base_uri": "https://localhost:8080/"
        },
        "outputId": "af958bf2-7aa1-472d-e500-6ba034f8fd72"
      },
      "execution_count": 14,
      "outputs": [
        {
          "output_type": "stream",
          "name": "stderr",
          "text": [
            "Training:   0%|\u001b[32m          \u001b[0m| 1/200 [01:19<4:22:32, 79.16s/it]"
          ]
        },
        {
          "output_type": "stream",
          "name": "stdout",
          "text": [
            "\n",
            "Epoch 0\n",
            "\tTraining Loss: 2.8093751466678762, Validation Loss: 2.101398519895695\n",
            "\tTraining Accuracy: 0.3652694610778443, Validation Accuracy: 0.4675925925925926\n"
          ]
        },
        {
          "output_type": "stream",
          "name": "stderr",
          "text": [
            "\rTraining:   1%|\u001b[32m          \u001b[0m| 2/200 [02:36<4:17:20, 77.98s/it]"
          ]
        },
        {
          "output_type": "stream",
          "name": "stdout",
          "text": [
            "\n",
            "Epoch 1\n",
            "\tTraining Loss: 1.9172006069781062, Validation Loss: 1.7656037630858246\n",
            "\tTraining Accuracy: 0.5434131736526946, Validation Accuracy: 0.5995370370370371\n"
          ]
        },
        {
          "output_type": "stream",
          "name": "stderr",
          "text": [
            "\rTraining:   2%|\u001b[32m▏         \u001b[0m| 3/200 [03:53<4:14:19, 77.46s/it]"
          ]
        },
        {
          "output_type": "stream",
          "name": "stdout",
          "text": [
            "\n",
            "Epoch 2\n",
            "\tTraining Loss: 1.6594491465957817, Validation Loss: 1.6770157620862678\n",
            "\tTraining Accuracy: 0.6127744510978044, Validation Accuracy: 0.6018518518518519\n"
          ]
        },
        {
          "output_type": "stream",
          "name": "stderr",
          "text": [
            "\rTraining:   2%|\u001b[32m▏         \u001b[0m| 4/200 [05:10<4:12:51, 77.40s/it]"
          ]
        },
        {
          "output_type": "stream",
          "name": "stdout",
          "text": [
            "\n",
            "Epoch 3\n",
            "\tTraining Loss: 1.3886248349786519, Validation Loss: 1.5484989944983412\n",
            "\tTraining Accuracy: 0.6866267465069861, Validation Accuracy: 0.6666666666666666\n"
          ]
        },
        {
          "output_type": "stream",
          "name": "stderr",
          "text": [
            "\rTraining:   2%|\u001b[32m▎         \u001b[0m| 5/200 [06:29<4:13:09, 77.89s/it]"
          ]
        },
        {
          "output_type": "stream",
          "name": "stdout",
          "text": [
            "\n",
            "Epoch 4\n",
            "\tTraining Loss: 1.2153105160552347, Validation Loss: 1.4835677530478548\n",
            "\tTraining Accuracy: 0.7210578842315369, Validation Accuracy: 0.7129629629629629\n"
          ]
        },
        {
          "output_type": "stream",
          "name": "stderr",
          "text": [
            "\rTraining:   3%|\u001b[32m▎         \u001b[0m| 6/200 [07:47<4:12:03, 77.96s/it]"
          ]
        },
        {
          "output_type": "stream",
          "name": "stdout",
          "text": [
            "\n",
            "Epoch 5\n",
            "\tTraining Loss: 1.0654084721130288, Validation Loss: 1.4694120718373194\n",
            "\tTraining Accuracy: 0.7634730538922155, Validation Accuracy: 0.6898148148148148\n"
          ]
        },
        {
          "output_type": "stream",
          "name": "stderr",
          "text": [
            "\rTraining:   4%|\u001b[32m▎         \u001b[0m| 7/200 [09:04<4:09:40, 77.62s/it]"
          ]
        },
        {
          "output_type": "stream",
          "name": "stdout",
          "text": [
            "\n",
            "Epoch 6\n",
            "\tTraining Loss: 0.8949388047148605, Validation Loss: 1.5644671192944601\n",
            "\tTraining Accuracy: 0.81187624750499, Validation Accuracy: 0.6967592592592593\n"
          ]
        },
        {
          "output_type": "stream",
          "name": "stderr",
          "text": [
            "\rTraining:   4%|\u001b[32m▍         \u001b[0m| 8/200 [10:21<4:08:01, 77.51s/it]"
          ]
        },
        {
          "output_type": "stream",
          "name": "stdout",
          "text": [
            "\n",
            "Epoch 7\n",
            "\tTraining Loss: 0.8030608894002295, Validation Loss: 1.3780212167271033\n",
            "\tTraining Accuracy: 0.8338323353293413, Validation Accuracy: 0.7291666666666666\n"
          ]
        },
        {
          "output_type": "stream",
          "name": "stderr",
          "text": [
            "\rTraining:   4%|\u001b[32m▍         \u001b[0m| 9/200 [11:38<4:05:56, 77.26s/it]"
          ]
        },
        {
          "output_type": "stream",
          "name": "stdout",
          "text": [
            "\n",
            "Epoch 8\n",
            "\tTraining Loss: 0.691863279566615, Validation Loss: 1.4692966496847846\n",
            "\tTraining Accuracy: 0.8488023952095808, Validation Accuracy: 0.7083333333333334\n"
          ]
        },
        {
          "output_type": "stream",
          "name": "stderr",
          "text": [
            "\rTraining:   5%|\u001b[32m▌         \u001b[0m| 10/200 [12:56<4:05:50, 77.63s/it]"
          ]
        },
        {
          "output_type": "stream",
          "name": "stdout",
          "text": [
            "\n",
            "Epoch 9\n",
            "\tTraining Loss: 0.6007957286359427, Validation Loss: 1.477950080987756\n",
            "\tTraining Accuracy: 0.8727544910179641, Validation Accuracy: 0.7384259259259259\n"
          ]
        },
        {
          "output_type": "stream",
          "name": "stderr",
          "text": [
            "\rTraining:   6%|\u001b[32m▌         \u001b[0m| 11/200 [14:45<4:35:00, 87.30s/it]"
          ]
        },
        {
          "output_type": "stream",
          "name": "stdout",
          "text": [
            "\n",
            "Epoch 10\n",
            "\tTraining Loss: 0.503016020818251, Validation Loss: 1.4738287721432883\n",
            "\tTraining Accuracy: 0.9006986027944112, Validation Accuracy: 0.7592592592592593\n"
          ]
        },
        {
          "output_type": "stream",
          "name": "stderr",
          "text": [
            "\rTraining:   6%|\u001b[32m▌         \u001b[0m| 12/200 [16:03<4:23:57, 84.24s/it]"
          ]
        },
        {
          "output_type": "stream",
          "name": "stdout",
          "text": [
            "\n",
            "Epoch 11\n",
            "\tTraining Loss: 0.47376507660652883, Validation Loss: 1.6518534395145252\n",
            "\tTraining Accuracy: 0.9026946107784432, Validation Accuracy: 0.7291666666666666\n"
          ]
        },
        {
          "output_type": "stream",
          "name": "stderr",
          "text": [
            "\rTraining:   6%|\u001b[32m▋         \u001b[0m| 13/200 [17:21<4:16:40, 82.35s/it]"
          ]
        },
        {
          "output_type": "stream",
          "name": "stdout",
          "text": [
            "\n",
            "Epoch 12\n",
            "\tTraining Loss: 0.4242962594655251, Validation Loss: 1.5101006288098655\n",
            "\tTraining Accuracy: 0.9106786427145709, Validation Accuracy: 0.75\n"
          ]
        },
        {
          "output_type": "stream",
          "name": "stderr",
          "text": [
            "\rTraining:   7%|\u001b[32m▋         \u001b[0m| 14/200 [18:39<4:11:58, 81.28s/it]"
          ]
        },
        {
          "output_type": "stream",
          "name": "stdout",
          "text": [
            "\n",
            "Epoch 13\n",
            "\tTraining Loss: 0.36077476950072335, Validation Loss: 1.638353115652636\n",
            "\tTraining Accuracy: 0.9321357285429142, Validation Accuracy: 0.75\n"
          ]
        },
        {
          "output_type": "stream",
          "name": "stderr",
          "text": [
            "\rTraining:   8%|\u001b[32m▊         \u001b[0m| 15/200 [19:57<4:06:46, 80.04s/it]"
          ]
        },
        {
          "output_type": "stream",
          "name": "stdout",
          "text": [
            "\n",
            "Epoch 14\n",
            "\tTraining Loss: 0.30459669605362233, Validation Loss: 1.5687533030803833\n",
            "\tTraining Accuracy: 0.9366267465069861, Validation Accuracy: 0.7384259259259259\n"
          ]
        },
        {
          "output_type": "stream",
          "name": "stderr",
          "text": [
            "\rTraining:   8%|\u001b[32m▊         \u001b[0m| 16/200 [21:13<4:02:22, 79.03s/it]"
          ]
        },
        {
          "output_type": "stream",
          "name": "stdout",
          "text": [
            "\n",
            "Epoch 15\n",
            "\tTraining Loss: 0.30293476080453163, Validation Loss: 1.6667009267559345\n",
            "\tTraining Accuracy: 0.9346307385229541, Validation Accuracy: 0.7314814814814815\n"
          ]
        },
        {
          "output_type": "stream",
          "name": "stderr",
          "text": [
            "\rTraining:   8%|\u001b[32m▊         \u001b[0m| 17/200 [22:30<3:58:44, 78.27s/it]"
          ]
        },
        {
          "output_type": "stream",
          "name": "stdout",
          "text": [
            "\n",
            "Epoch 16\n",
            "\tTraining Loss: 0.27933530964537295, Validation Loss: 1.7059036027424521\n",
            "\tTraining Accuracy: 0.9461077844311377, Validation Accuracy: 0.7384259259259259\n"
          ]
        },
        {
          "output_type": "stream",
          "name": "stderr",
          "text": [
            "\rTraining:   9%|\u001b[32m▉         \u001b[0m| 18/200 [23:47<3:56:35, 78.00s/it]"
          ]
        },
        {
          "output_type": "stream",
          "name": "stdout",
          "text": [
            "\n",
            "Epoch 17\n",
            "\tTraining Loss: 0.25955092992555506, Validation Loss: 1.687980254562313\n",
            "\tTraining Accuracy: 0.9491017964071856, Validation Accuracy: 0.7384259259259259\n",
            "\n",
            "Epoch 18\n",
            "\tTraining Loss: 0.2029294228541875, Validation Loss: 1.7996772253364153\n",
            "\tTraining Accuracy: 0.9610778443113772, Validation Accuracy: 0.7453703703703703\n",
            "\n",
            "Early stopping at epoch 18 due to overfitting\n"
          ]
        },
        {
          "output_type": "stream",
          "name": "stderr",
          "text": [
            "\rTraining:   9%|\u001b[32m▉         \u001b[0m| 18/200 [25:05<4:13:44, 83.65s/it]\n"
          ]
        }
      ]
    },
    {
      "cell_type": "code",
      "source": [
        "#plotting the training and validation loss\n",
        "plt.plot(list(range(epochs_trained)), train_loss, label = 'Training loss')\n",
        "plt.plot(list(range(epochs_trained)), val_loss, label = 'Validation loss')\n",
        "plt.title(\"Loss V. Num Epochs for DeBERTa\")\n",
        "plt.xlabel(\"Number of Epochs\")\n",
        "plt.ylabel(\"Loss\")\n",
        "plt.legend()\n",
        "plt.show()\n",
        "\n",
        "#plotting the training and validation accuracy\n",
        "plt.plot(list(range(epochs_trained)), train_acc, label = 'Training accuracy')\n",
        "plt.plot(list(range(epochs_trained)), val_acc, label = 'Validation accuracy')\n",
        "plt.axhline(y = 0.7407407407407407, color = 'r', linestyle = '--')\n",
        "plt.annotate('Test accuracy = 74.074%', xy = (1, 0.7407407407407407), xytext = (1, 0.75))\n",
        "plt.title(\"Accuracy V. Num Epochs for DeBERTa\")\n",
        "plt.xlabel(\"Number of Epochs\")\n",
        "plt.ylabel(\"Accuracy\")\n",
        "plt.legend()\n",
        "plt.show()"
      ],
      "metadata": {
        "id": "lGHYjMDWmCKb",
        "colab": {
          "base_uri": "https://localhost:8080/",
          "height": 927
        },
        "outputId": "48006f71-f290-40cd-d6e4-0ec85daf93d4"
      },
      "execution_count": 19,
      "outputs": [
        {
          "output_type": "display_data",
          "data": {
            "text/plain": [
              "<Figure size 640x480 with 1 Axes>"
            ],
            "image/png": "[encoded data removed]"
          },
          "metadata": {}
        },
        {
          "output_type": "display_data",
          "data": {
            "text/plain": [
              "<Figure size 640x480 with 1 Axes>"
            ],
            "image/png": "[encoded data removed]"
          },
          "metadata": {}
        }
      ]
    },
    {
      "cell_type": "code",
      "source": [
        "#testing loop\n",
        "model.eval()\n",
        "total_test_loss = 0\n",
        "total_test_acc = 0\n",
        "for batch in test_dataloader:\n",
        "    input_ids, attention_mask, labels, rel_freq_heuristic = batch\n",
        "    input_ids, attention_mask, labels, rel_freq_heuristic = input_ids.to(device), attention_mask.to(device), labels.to(device), rel_freq_heuristic.to(device)\n",
        "\n",
        "    with torch.no_grad():\n",
        "        outputs = model(input_ids, attention_mask=attention_mask, labels=labels)\n",
        "        loss = outputs[0]\n",
        "        total_test_loss += loss.item()\n",
        "        total_test_acc += accuracy(outputs[1], labels, rel_freq_heuristic)\n",
        "\n",
        "    #deleting unnecessary values to save memory\n",
        "    del input_ids, attention_mask, labels, outputs, loss\n",
        "\n",
        "#calculating average test loss\n",
        "avg_test_loss = total_test_loss / len(test_dataloader)\n",
        "avg_test_acc = total_test_acc / len(test_dataloader)\n",
        "print(f\"Test Loss: {avg_test_loss}\")\n",
        "print(f\"Test Accuracy: {avg_test_acc}\")"
      ],
      "metadata": {
        "id": "LctTZoNpmFBD",
        "colab": {
          "base_uri": "https://localhost:8080/"
        },
        "outputId": "74969166-1d69-4e68-96ae-fa4a872636f3"
      },
      "execution_count": 16,
      "outputs": [
        {
          "output_type": "stream",
          "name": "stdout",
          "text": [
            "Test Loss: 1.6675734759019516\n",
            "Test Accuracy: 0.7407407407407407\n"
          ]
        }
      ]
    },
    {
      "cell_type": "code",
      "source": [
        "print(train_loss)\n",
        "print(val_loss)\n",
        "print(train_acc)\n",
        "print(val_acc)\n",
        "\n",
        "# Save the training and validation loss and accuracy to a pickle file\n",
        "with open(base_dir + 'loss_acc_deberta.pickle', 'wb') as f:\n",
        "    f.truncate(0)\n",
        "    pickle.dump((train_loss, val_loss, train_acc, val_acc), f)\n",
        "#close file\n",
        "f.close()"
      ],
      "metadata": {
        "id": "2n-u1Tz7mHJ9",
        "colab": {
          "base_uri": "https://localhost:8080/"
        },
        "outputId": "6b4b48ef-49bb-49dc-fdfa-9be4a2b1f1b6"
      },
      "execution_count": 17,
      "outputs": [
        {
          "output_type": "stream",
          "name": "stdout",
          "text": [
            "[2.8093751466678762, 1.9172006069781062, 1.6594491465957817, 1.3886248349786519, 1.2153105160552347, 1.0654084721130288, 0.8949388047148605, 0.8030608894002295, 0.691863279566615, 0.6007957286359427, 0.503016020818251, 0.47376507660652883, 0.4242962594655251, 0.36077476950072335, 0.30459669605362233, 0.30293476080453163, 0.27933530964537295, 0.25955092992555506, 0.2029294228541875]\n",
            "[2.101398519895695, 1.7656037630858246, 1.6770157620862678, 1.5484989944983412, 1.4835677530478548, 1.4694120718373194, 1.5644671192944601, 1.3780212167271033, 1.4692966496847846, 1.477950080987756, 1.4738287721432883, 1.6518534395145252, 1.5101006288098655, 1.638353115652636, 1.5687533030803833, 1.6667009267559345, 1.7059036027424521, 1.687980254562313, 1.7996772253364153]\n",
            "[0.3652694610778443, 0.5434131736526946, 0.6127744510978044, 0.6866267465069861, 0.7210578842315369, 0.7634730538922155, 0.81187624750499, 0.8338323353293413, 0.8488023952095808, 0.8727544910179641, 0.9006986027944112, 0.9026946107784432, 0.9106786427145709, 0.9321357285429142, 0.9366267465069861, 0.9346307385229541, 0.9461077844311377, 0.9491017964071856, 0.9610778443113772]\n",
            "[0.4675925925925926, 0.5995370370370371, 0.6018518518518519, 0.6666666666666666, 0.7129629629629629, 0.6898148148148148, 0.6967592592592593, 0.7291666666666666, 0.7083333333333334, 0.7384259259259259, 0.7592592592592593, 0.7291666666666666, 0.75, 0.75, 0.7384259259259259, 0.7314814814814815, 0.7384259259259259, 0.7384259259259259, 0.7453703703703703]\n"
          ]
        }
      ]
    }
  ]
}