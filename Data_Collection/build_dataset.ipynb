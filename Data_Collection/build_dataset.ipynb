{
 "cells": [
  {
   "cell_type": "code",
   "execution_count": 1,
   "metadata": {},
   "outputs": [
    {
     "name": "stderr",
     "output_type": "stream",
     "text": [
      "c:\\Users\\davvr\\AppData\\Local\\Programs\\Python\\Python310\\lib\\site-packages\\tqdm\\auto.py:22: TqdmWarning: IProgress not found. Please update jupyter and ipywidgets. See https://ipywidgets.readthedocs.io/en/stable/user_install.html\n",
      "  from .autonotebook import tqdm as notebook_tqdm\n"
     ]
    }
   ],
   "source": [
    "import re\n",
    "import spacy\n",
    "#run the following command in the terminal to download the model:\n",
    "#python -m spacy download en_core_web_lg\n",
    "import pickle"
   ]
  },
  {
   "cell_type": "code",
   "execution_count": 2,
   "metadata": {},
   "outputs": [],
   "source": [
    "nlp = spacy.load('en_core_web_lg', disable=['parser', 'ner'])\n",
    "nlp.add_pipe('sentencizer')\n",
    "\n",
    "het_pun_sentence_list = []\n",
    "homo_pun_sentence_list = []\n",
    "punct_set = {'#', '$', '.', ',', ':', '(', ')', \"`\", \"'\", '\"', \"``\", \"?\", \"!\", \"''\", \"/\"}\n",
    "het_pun = []\n",
    "homo_pun = []\n",
    "het_pun_processed = []\n",
    "homo_pun_processed = []\n"
   ]
  },
  {
   "cell_type": "code",
   "execution_count": 3,
   "metadata": {},
   "outputs": [
    {
     "name": "stdout",
     "output_type": "stream",
     "text": [
      "Total Heterographic Puns:  1264\n"
     ]
    }
   ],
   "source": [
    "\n",
    "with open('het_pun_sentence_list.txt', 'r') as f:\n",
    "    for row in f:\n",
    "        het_pun_sentence_list.append(row)\n",
    "#close file\n",
    "f.close()\n",
    "\n",
    "with open('het_pun_list.txt', 'r') as f:\n",
    "    for row in f:\n",
    "        het_pun.append(row)\n",
    "#close file\n",
    "f.close()\n",
    "\n",
    "for index1 in range(len(het_pun_sentence_list)):\n",
    "    sentence = het_pun_sentence_list[index1]\n",
    "    unprocessed_sentence = []\n",
    "    processed_sentence = []\n",
    "    pun = het_pun[index1]\n",
    "\n",
    "    #remove extra spaces using rejex\n",
    "    sentence = re.sub(' +', ' ', sentence)\n",
    "    #replace ' m with 'm\n",
    "    sentence = sentence.replace(\"' m\", \"'m\")\n",
    "    #replace ' s with 's\n",
    "    sentence = sentence.replace(\"' s\", \"'s\")\n",
    "    #replace ' ve with 've\n",
    "    sentence = sentence.replace(\"' ve\", \"'ve\")\n",
    "    #replace ' re with 're\n",
    "    sentence = sentence.replace(\"' re\", \"'re\")\n",
    "    #replace ' d with 'd\n",
    "    sentence = sentence.replace(\"' d\", \"'d\")\n",
    "    #replace ' ll with 'll\n",
    "    sentence = sentence.replace(\"' ll\", \"'ll\")\n",
    "    #replace ' t with 't\n",
    "    sentence = sentence.replace(\"' t\", \"'t\")\n",
    "    #replace '' with \"\n",
    "    sentence = sentence.replace(\"''\", \"\\\"\")\n",
    "    \n",
    "    #remove new line character at the end of the sentence\n",
    "    sentence = sentence.strip()\n",
    "    sentence = nlp(sentence)\n",
    "    pun_proc = []\n",
    "    for sent in sentence.sents:\n",
    "        for token in sent:\n",
    "            #Write \"/POS\" after each token.\n",
    "            #Split tokens with spaces.\n",
    "            token.lemma_ = token.lemma_.lower()\n",
    "            #replace pun with its lemma\n",
    "            if token.text == pun.strip():\n",
    "                pun_proc.append(token.lemma_ + \"/\" + token.tag_)\n",
    "            processed_sentence.append(token.lemma_ + \"/\" + token.tag_)\n",
    "            unprocessed_sentence.append(token.text)\n",
    "    if len(pun_proc) > 0:\n",
    "        het_pun_processed.append([processed_sentence, unprocessed_sentence, pun_proc])\n",
    "print(\"Total Heterographic Puns: \", len(het_pun_processed))"
   ]
  },
  {
   "cell_type": "code",
   "execution_count": 6,
   "metadata": {},
   "outputs": [
    {
     "name": "stdout",
     "output_type": "stream",
     "text": [
      "[['\"/``', 'i/PRP', 'be/VBP', 'halfway/RB', 'up/IN', 'a/DT', 'mountain/NN', ',/,', '\"/\\'\\'', 'tom/NNP', 'allege/VBD', './.'], ['\"', 'I', \"'m\", 'halfway', 'up', 'a', 'mountain', ',', '\"', 'Tom', 'alleged', '.'], ['allege/VBD']]\n"
     ]
    }
   ],
   "source": [
    "print(het_pun_processed[0])"
   ]
  },
  {
   "cell_type": "code",
   "execution_count": 35,
   "metadata": {},
   "outputs": [
    {
     "name": "stdout",
     "output_type": "stream",
     "text": [
      "Total homographic Puns:  1599\n"
     ]
    }
   ],
   "source": [
    "#reading homo_pun_tagged_list.txt\n",
    "with open('homo_pun_sentence_list.txt', 'r') as f:\n",
    "    for row in f:\n",
    "        homo_pun_sentence_list.append(row)\n",
    "#close file\n",
    "f.close()\n",
    "\n",
    "with open('homo_pun_list.txt', 'r') as f:\n",
    "    for row in f:\n",
    "        homo_pun.append(row)\n",
    "#close file\n",
    "f.close()\n",
    "\n",
    "for index1 in range(len(homo_pun_sentence_list)):\n",
    "    sentence = homo_pun_sentence_list[index1]\n",
    "    unprocessed_sentence = []\n",
    "    processed_sentence = []\n",
    "    pun = homo_pun[index1]\n",
    "\n",
    "    #remove extra spaces using rejex\n",
    "    sentence = re.sub(' +', ' ', sentence)\n",
    "    #replace ' m with 'm\n",
    "    sentence = sentence.replace(\"' m\", \"'m\")\n",
    "    #replace ' s with 's\n",
    "    sentence = sentence.replace(\"' s\", \"'s\")\n",
    "    #replace ' ve with 've\n",
    "    sentence = sentence.replace(\"' ve\", \"'ve\")\n",
    "    #replace ' re with 're\n",
    "    sentence = sentence.replace(\"' re\", \"'re\")\n",
    "    #replace ' d with 'd\n",
    "    sentence = sentence.replace(\"' d\", \"'d\")\n",
    "    #replace ' ll with 'll\n",
    "    sentence = sentence.replace(\"' ll\", \"'ll\")\n",
    "    #replace ' t with 't\n",
    "    sentence = sentence.replace(\"' t\", \"'t\")\n",
    "    #replace '' with \"\n",
    "    sentence = sentence.replace(\"''\", \"\\\"\")\n",
    "    \n",
    "    #remove new line character at the end of the sentence\n",
    "    sentence = sentence.strip()\n",
    "    sentence = nlp(sentence)\n",
    "    pun_proc = []\n",
    "    for sent in sentence.sents:\n",
    "        for token in sent:\n",
    "            #Write \"/POS\" after each token.\n",
    "            #Split tokens with spaces.\n",
    "            token.lemma_ = token.lemma_.lower()\n",
    "            #replace pun with its lemma\n",
    "            if token.text == pun.strip():\n",
    "                pun_proc.append(token.lemma_ + \"/\" + token.tag_)\n",
    "            processed_sentence.append(token.lemma_ + \"/\" + token.tag_)\n",
    "            unprocessed_sentence.append(token.text)\n",
    "    if len(pun_proc) > 0:\n",
    "        homo_pun_processed.append([processed_sentence, unprocessed_sentence, pun_proc])\n",
    "print(\"Total homographic Puns: \", len(homo_pun_processed))"
   ]
  },
  {
   "cell_type": "code",
   "execution_count": 36,
   "metadata": {},
   "outputs": [
    {
     "name": "stdout",
     "output_type": "stream",
     "text": [
      "Total Negative Samples:  1152\n"
     ]
    }
   ],
   "source": [
    "#same thing for neg_sample.txt\n",
    "neg_sample = []\n",
    "with open('neg_samples.txt', 'r') as f:\n",
    "    for row in f:\n",
    "        neg_sample.append(row)\n",
    "#close file\n",
    "f.close()\n",
    "\n",
    "neg_final_list = []\n",
    "for sentence in neg_sample:\n",
    "    #remove extra spaces using rejex\n",
    "    sentence = re.sub(' +', ' ', sentence)\n",
    "    #replace ' m with 'm\n",
    "    sentence = sentence.replace(\"' m\", \"'m\")\n",
    "    #replace ' s with 's\n",
    "    sentence = sentence.replace(\"' s\", \"'s\")\n",
    "    #replace ' ve with 've\n",
    "    sentence = sentence.replace(\"' ve\", \"'ve\")\n",
    "    #replace ' re with 're\n",
    "    sentence = sentence.replace(\"' re\", \"'re\")\n",
    "    #replace ' d with 'd\n",
    "    sentence = sentence.replace(\"' d\", \"'d\")\n",
    "    #replace ' ll with 'll\n",
    "    sentence = sentence.replace(\"' ll\", \"'ll\")\n",
    "    #replace ' t with 't\n",
    "    sentence = sentence.replace(\"' t\", \"'t\")\n",
    "    #replace '' with \"\n",
    "    sentence = sentence.replace(\"''\", \"\\\"\")\n",
    "    \n",
    "    #remove new line character at the end of the sentence\n",
    "    sentence = sentence.strip()\n",
    "    sentence = nlp(sentence)\n",
    "    doc = []\n",
    "    for sent in sentence.sents:\n",
    "        for token in sent:\n",
    "            #Write \"/POS\" after each token.\n",
    "            #Split tokens with spaces.\n",
    "            token.lemma_ = token.lemma_.lower()\n",
    "            doc.append(token.lemma_ + \"/\" + token.tag_)\n",
    "    neg_final_list.append(doc)\n",
    "print(\"Total Negative Samples: \", len(neg_final_list))"
   ]
  },
  {
   "cell_type": "code",
   "execution_count": 37,
   "metadata": {},
   "outputs": [],
   "source": [
    "\n",
    "with open('processed/het_list_processed.pickle', 'wb') as f:\n",
    "    f.truncate(0)\n",
    "    pickle.dump(het_pun_processed, f)\n",
    "#close file\n",
    "f.close()\n",
    "\n",
    "with open('processed/homo_list_processed.pickle', 'wb') as f:\n",
    "    f.truncate(0)\n",
    "    pickle.dump(homo_pun_processed,f)\n",
    "#close file\n",
    "f.close()\n",
    "\n",
    "with open('processed/neg_list_processed.pickle', 'wb') as f:\n",
    "    f.truncate(0)\n",
    "    pickle.dump(neg_final_list, f)\n",
    "#close file\n",
    "f.close()"
   ]
  }
 ],
 "metadata": {
  "kernelspec": {
   "display_name": "Python 3",
   "language": "python",
   "name": "python3"
  },
  "language_info": {
   "codemirror_mode": {
    "name": "ipython",
    "version": 3
   },
   "file_extension": ".py",
   "mimetype": "text/x-python",
   "name": "python",
   "nbconvert_exporter": "python",
   "pygments_lexer": "ipython3",
   "version": "3.10.0"
  },
  "orig_nbformat": 4
 },
 "nbformat": 4,
 "nbformat_minor": 2
}
